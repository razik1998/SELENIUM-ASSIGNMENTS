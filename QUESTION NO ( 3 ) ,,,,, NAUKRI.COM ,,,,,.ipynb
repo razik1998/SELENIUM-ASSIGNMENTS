{
 "cells": [
  {
   "cell_type": "code",
   "execution_count": 6,
   "id": "1421aa77",
   "metadata": {},
   "outputs": [],
   "source": [
    "#  Q3: In this question you have to scrape data using the filters available on the webpage as shown below:\n",
    "#      You have to use the location and salary filter.\n",
    "#      You have to scrape data for “Data Scientist” designation for first 10 job results. \n",
    "#      You have to scrape the job-title, job-location, company name, experience required.\n",
    "#      The location filter to be used is “Delhi/NCR”. The salary filter to be used is “3-6” lakhs\n"
   ]
  },
  {
   "cell_type": "code",
   "execution_count": 1,
   "id": "e2059aed",
   "metadata": {},
   "outputs": [],
   "source": [
    "# IMPORTING REQUIRED LABLARIES\n",
    "import selenium \n",
    "import pandas as pd \n",
    "from selenium import webdriver\n",
    "import warnings\n",
    "warnings.filterwarnings ('ignore')\n",
    "from selenium.common.exceptions import StaleElementReferenceException, NoSuchElementException\n",
    "from selenium.webdriver.common.by import By\n",
    "import time"
   ]
  },
  {
   "cell_type": "code",
   "execution_count": 2,
   "id": "b2471232",
   "metadata": {},
   "outputs": [],
   "source": [
    "#  CONNECTING TO THE DRIVER\n",
    "driver=webdriver.Chrome(r\"C:\\Users\\ASUS\\Downloads\\chromedriver.exe\")"
   ]
  },
  {
   "cell_type": "code",
   "execution_count": 3,
   "id": "665a30cd",
   "metadata": {},
   "outputs": [],
   "source": [
    "#  OPENING THE NAUKRI PAGE ON AUTOMATED CHROME BROWSER\n",
    "driver.get(\"https://www.naukri.com/\")"
   ]
  },
  {
   "cell_type": "code",
   "execution_count": 4,
   "id": "35554e41",
   "metadata": {},
   "outputs": [],
   "source": [
    "#   ENTERING DESIGNATION AS REQUIRED \n",
    "designation = driver.find_element (By.CLASS_NAME,\"suggestor-input \")\n",
    "designation.send_keys ('Data Scientist')"
   ]
  },
  {
   "cell_type": "code",
   "execution_count": 5,
   "id": "18d9da14",
   "metadata": {},
   "outputs": [],
   "source": [
    "#  CLICKING SEARCH BUTTON \n",
    "search = driver.find_element (By.CLASS_NAME,\"qsbSubmit\")\n",
    "search.click()"
   ]
  },
  {
   "cell_type": "code",
   "execution_count": 6,
   "id": "d5e67a57",
   "metadata": {},
   "outputs": [],
   "source": [
    "# code to filter location \n",
    "\n",
    "location_filter1=driver.find_element(By.XPATH,\"/html/body/div[1]/div[4]/div/div/section[1]/div[2]/div[5]/div[2]/div[2]/label/p/span[1]\")\n",
    "\n",
    "location_filter1.click()\n",
    "\n",
    "\n"
   ]
  },
  {
   "cell_type": "code",
   "execution_count": 7,
   "id": "d852dd39",
   "metadata": {},
   "outputs": [],
   "source": [
    "# code to filter salary \n",
    "\n",
    "salary_filter1=driver.find_element(By.XPATH,\"/html/body/div[1]/div[4]/div/div/section[1]/div[2]/div[6]/div[2]/div[2]/label/p\")\n",
    "\n",
    "salary_filter1.click()\n",
    "\n",
    "\n"
   ]
  },
  {
   "cell_type": "code",
   "execution_count": 8,
   "id": "e64bcd65",
   "metadata": {},
   "outputs": [],
   "source": [
    "# CREATING EMPTY LIST\n",
    "\n",
    "JOB_TITLES          = []\n",
    "JOB_LOCATIONS       = []\n",
    "COMPANY_NAMES       = []\n",
    "EXPERIENCE_REQUIRED = []"
   ]
  },
  {
   "cell_type": "code",
   "execution_count": 9,
   "id": "7f711e67",
   "metadata": {},
   "outputs": [],
   "source": [
    "# SCRAPING JOB TITLES IN ONE GO\n",
    "job_desig = driver.find_elements (By.XPATH,'//a[@class=\"title ellipsis\"]')\n",
    "for i in job_desig [0:10]:\n",
    "    Jobs = i.text\n",
    "    JOB_TITLES.append (Jobs)\n",
    "    \n",
    "    \n",
    "    \n",
    "# SCRAPING JOB LOCATIONS IN ONE GO\n",
    "job_loc = driver.find_elements (By.XPATH,'//span[@class=\"ellipsis fleft locWdth\"]')\n",
    "for i in job_loc [0:10]:\n",
    "    location = i.text\n",
    "    JOB_LOCATIONS.append (location)\n",
    "    \n",
    "    \n",
    "    \n",
    "# SCRAPING COMPANY NAMES IN ONE GO\n",
    "com_nm = driver.find_elements (By.XPATH,'//a[@class=\"subTitle ellipsis fleft\"]')\n",
    "for i in com_nm [0:10]:\n",
    "    companies = i.text\n",
    "    COMPANY_NAMES.append (companies)\n",
    "    \n",
    "    \n",
    "    \n",
    "# SCRAPING EXPERIENCE REQUIRED IN ONE GO\n",
    "exp_rq = driver.find_elements (By.XPATH,'//span[@class=\"ellipsis fleft expwdth\"]')\n",
    "for i in exp_rq [0:10]:\n",
    "    experience = i.text\n",
    "    EXPERIENCE_REQUIRED.append (experience )"
   ]
  },
  {
   "cell_type": "code",
   "execution_count": 10,
   "id": "ca6c89a9",
   "metadata": {},
   "outputs": [
    {
     "name": "stdout",
     "output_type": "stream",
     "text": [
      "10 10 10 10\n"
     ]
    }
   ],
   "source": [
    "# PRINTING LENGHT IN ONE GO\n",
    "print (len(JOB_TITLES),len(JOB_LOCATIONS),len(COMPANY_NAMES),len(EXPERIENCE_REQUIRED))"
   ]
  },
  {
   "cell_type": "code",
   "execution_count": 11,
   "id": "9e6563dc",
   "metadata": {},
   "outputs": [
    {
     "data": {
      "text/html": [
       "<div>\n",
       "<style scoped>\n",
       "    .dataframe tbody tr th:only-of-type {\n",
       "        vertical-align: middle;\n",
       "    }\n",
       "\n",
       "    .dataframe tbody tr th {\n",
       "        vertical-align: top;\n",
       "    }\n",
       "\n",
       "    .dataframe thead th {\n",
       "        text-align: right;\n",
       "    }\n",
       "</style>\n",
       "<table border=\"1\" class=\"dataframe\">\n",
       "  <thead>\n",
       "    <tr style=\"text-align: right;\">\n",
       "      <th></th>\n",
       "      <th>JOB_TITLES</th>\n",
       "      <th>JOB_LOCATIONS</th>\n",
       "      <th>COMPANY_NAMES</th>\n",
       "      <th>EXPERIENCE_REQUIRED</th>\n",
       "    </tr>\n",
       "  </thead>\n",
       "  <tbody>\n",
       "    <tr>\n",
       "      <th>0</th>\n",
       "      <td>Data Scientist</td>\n",
       "      <td>Temp. WFH - Kochi/Cochin, Kolkata, Hyderabad/S...</td>\n",
       "      <td>Cognizant</td>\n",
       "      <td>6-10 Yrs</td>\n",
       "    </tr>\n",
       "    <tr>\n",
       "      <th>1</th>\n",
       "      <td>Junior Data Scientist</td>\n",
       "      <td>Kolkata, Mumbai, New Delhi, Hyderabad/Secunder...</td>\n",
       "      <td>Analytos</td>\n",
       "      <td>0-2 Yrs</td>\n",
       "    </tr>\n",
       "    <tr>\n",
       "      <th>2</th>\n",
       "      <td>Data Scientist</td>\n",
       "      <td>Gurgaon/Gurugram, Bangalore/Bengaluru</td>\n",
       "      <td>Blackbuck</td>\n",
       "      <td>3-7 Yrs</td>\n",
       "    </tr>\n",
       "    <tr>\n",
       "      <th>3</th>\n",
       "      <td>MLOps - Data Scientist</td>\n",
       "      <td>Noida</td>\n",
       "      <td>Paytm</td>\n",
       "      <td>3-8 Yrs</td>\n",
       "    </tr>\n",
       "    <tr>\n",
       "      <th>4</th>\n",
       "      <td>Data Scientist</td>\n",
       "      <td>Kolkata, Mumbai, New Delhi, Hyderabad/Secunder...</td>\n",
       "      <td>Tabsquare</td>\n",
       "      <td>1-3 Yrs</td>\n",
       "    </tr>\n",
       "    <tr>\n",
       "      <th>5</th>\n",
       "      <td>Data Scientist</td>\n",
       "      <td>Kolkata, Mumbai, New Delhi, Hyderabad/Secunder...</td>\n",
       "      <td>Analytos</td>\n",
       "      <td>2-4 Yrs</td>\n",
       "    </tr>\n",
       "    <tr>\n",
       "      <th>6</th>\n",
       "      <td>Junior Data Scientist</td>\n",
       "      <td>Gurgaon/Gurugram, United States (USA), Bulgaria</td>\n",
       "      <td>Adidas</td>\n",
       "      <td>1-6 Yrs</td>\n",
       "    </tr>\n",
       "    <tr>\n",
       "      <th>7</th>\n",
       "      <td>Analyst-Data Science</td>\n",
       "      <td>Gurgaon/Gurugram</td>\n",
       "      <td>AMERICAN EXPRESS</td>\n",
       "      <td>0-3 Yrs</td>\n",
       "    </tr>\n",
       "    <tr>\n",
       "      <th>8</th>\n",
       "      <td>Analyst-Data Science</td>\n",
       "      <td>Gurgaon/Gurugram</td>\n",
       "      <td>AMERICAN EXPRESS</td>\n",
       "      <td>0-3 Yrs</td>\n",
       "    </tr>\n",
       "    <tr>\n",
       "      <th>9</th>\n",
       "      <td>Senior Data Scientist</td>\n",
       "      <td>Hyderabad/Secunderabad, Chenani, Gurgaon/Gurug...</td>\n",
       "      <td>RecruitEForU</td>\n",
       "      <td>3-8 Yrs</td>\n",
       "    </tr>\n",
       "  </tbody>\n",
       "</table>\n",
       "</div>"
      ],
      "text/plain": [
       "               JOB_TITLES                                      JOB_LOCATIONS  \\\n",
       "0          Data Scientist  Temp. WFH - Kochi/Cochin, Kolkata, Hyderabad/S...   \n",
       "1   Junior Data Scientist  Kolkata, Mumbai, New Delhi, Hyderabad/Secunder...   \n",
       "2          Data Scientist              Gurgaon/Gurugram, Bangalore/Bengaluru   \n",
       "3  MLOps - Data Scientist                                              Noida   \n",
       "4          Data Scientist  Kolkata, Mumbai, New Delhi, Hyderabad/Secunder...   \n",
       "5          Data Scientist  Kolkata, Mumbai, New Delhi, Hyderabad/Secunder...   \n",
       "6   Junior Data Scientist    Gurgaon/Gurugram, United States (USA), Bulgaria   \n",
       "7    Analyst-Data Science                                   Gurgaon/Gurugram   \n",
       "8    Analyst-Data Science                                   Gurgaon/Gurugram   \n",
       "9   Senior Data Scientist  Hyderabad/Secunderabad, Chenani, Gurgaon/Gurug...   \n",
       "\n",
       "      COMPANY_NAMES EXPERIENCE_REQUIRED  \n",
       "0         Cognizant            6-10 Yrs  \n",
       "1          Analytos             0-2 Yrs  \n",
       "2         Blackbuck             3-7 Yrs  \n",
       "3             Paytm             3-8 Yrs  \n",
       "4         Tabsquare             1-3 Yrs  \n",
       "5          Analytos             2-4 Yrs  \n",
       "6            Adidas             1-6 Yrs  \n",
       "7  AMERICAN EXPRESS             0-3 Yrs  \n",
       "8  AMERICAN EXPRESS             0-3 Yrs  \n",
       "9      RecruitEForU             3-8 Yrs  "
      ]
     },
     "execution_count": 11,
     "metadata": {},
     "output_type": "execute_result"
    }
   ],
   "source": [
    "# MAKING DATA FRAME AND DISPLAY IN DATA FRAME FORMAT\n",
    "df = pd.DataFrame ({'JOB_TITLES':JOB_TITLES,'JOB_LOCATIONS':JOB_LOCATIONS,'COMPANY_NAMES':COMPANY_NAMES,'EXPERIENCE_REQUIRED':EXPERIENCE_REQUIRED})\n",
    "df"
   ]
  },
  {
   "cell_type": "code",
   "execution_count": null,
   "id": "a163b6b7",
   "metadata": {},
   "outputs": [],
   "source": []
  }
 ],
 "metadata": {
  "kernelspec": {
   "display_name": "Python 3 (ipykernel)",
   "language": "python",
   "name": "python3"
  },
  "language_info": {
   "codemirror_mode": {
    "name": "ipython",
    "version": 3
   },
   "file_extension": ".py",
   "mimetype": "text/x-python",
   "name": "python",
   "nbconvert_exporter": "python",
   "pygments_lexer": "ipython3",
   "version": "3.9.13"
  }
 },
 "nbformat": 4,
 "nbformat_minor": 5
}
