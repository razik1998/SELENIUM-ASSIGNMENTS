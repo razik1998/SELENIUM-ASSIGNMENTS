{
 "cells": [
  {
   "cell_type": "code",
   "execution_count": 6,
   "id": "1421aa77",
   "metadata": {},
   "outputs": [],
   "source": [
    "#  Q3: In this question you have to scrape data using the filters available on the webpage as shown below:\n",
    "#      You have to use the location and salary filter.\n",
    "#      You have to scrape data for “Data Scientist” designation for first 10 job results. \n",
    "#      You have to scrape the job-title, job-location, company name, experience required.\n",
    "#      The location filter to be used is “Delhi/NCR”. The salary filter to be used is “3-6” lakhs\n"
   ]
  },
  {
   "cell_type": "code",
   "execution_count": 22,
   "id": "e2059aed",
   "metadata": {},
   "outputs": [],
   "source": [
    "# IMPORTING REQUIRED LABLARIES\n",
    "import selenium \n",
    "import pandas as pd \n",
    "from selenium import webdriver\n",
    "import warnings\n",
    "warnings.filterwarnings ('ignore')\n",
    "from selenium.common.exceptions import StaleElementReferenceException, NoSuchElementException\n",
    "from selenium.webdriver.common.by import By\n",
    "import time"
   ]
  },
  {
   "cell_type": "code",
   "execution_count": 23,
   "id": "b2471232",
   "metadata": {},
   "outputs": [],
   "source": [
    "#  CONNECTING TO THE DRIVER\n",
    "driver=webdriver.Chrome(r\"C:\\Users\\ASUS\\Downloads\\chromedriver.exe\")"
   ]
  },
  {
   "cell_type": "code",
   "execution_count": 24,
   "id": "665a30cd",
   "metadata": {},
   "outputs": [],
   "source": [
    "#  OPENING THE NAUKRI PAGE ON AUTOMATED CHROME BROWSER\n",
    "driver.get(\"https://www.naukri.com/\")"
   ]
  },
  {
   "cell_type": "code",
   "execution_count": 25,
   "id": "35554e41",
   "metadata": {},
   "outputs": [],
   "source": [
    "#   ENTERING DESIGNATION AS REQUIRED \n",
    "designation = driver.find_element (By.CLASS_NAME,\"suggestor-input \")\n",
    "designation.send_keys ('Data Scientist')"
   ]
  },
  {
   "cell_type": "code",
   "execution_count": 28,
   "id": "7a99decb",
   "metadata": {},
   "outputs": [],
   "source": [
    "location_delhi=driver.find_element(By.XPATH,\"/html/body/div[1]/div[7]/div/div/div[5]/div/div/div/div[1]/div/input \")\n",
    "location_delhi.send_keys ('Delhi/NCR')"
   ]
  },
  {
   "cell_type": "code",
   "execution_count": 29,
   "id": "18d9da14",
   "metadata": {},
   "outputs": [],
   "source": [
    "#  CLICKING SEARCH BUTTON \n",
    "search = driver.find_element (By.CLASS_NAME,\"qsbSubmit\")\n",
    "search.click()"
   ]
  },
  {
   "cell_type": "code",
   "execution_count": 30,
   "id": "e64bcd65",
   "metadata": {},
   "outputs": [],
   "source": [
    "# CREATING EMPTY LIST\n",
    "\n",
    "JOB_TITLES          = []\n",
    "JOB_LOCATIONS       = []\n",
    "COMPANY_NAMES       = []\n",
    "EXPERIENCE_REQUIRED = []"
   ]
  },
  {
   "cell_type": "code",
   "execution_count": 31,
   "id": "7f711e67",
   "metadata": {},
   "outputs": [],
   "source": [
    "# SCRAPING JOB TITLES IN ONE GO\n",
    "job_desig = driver.find_elements (By.XPATH,'//a[@class=\"title ellipsis\"]')\n",
    "for i in job_desig [0:10]:\n",
    "    Jobs = i.text\n",
    "    JOB_TITLES.append (Jobs)\n",
    "    \n",
    "    \n",
    "    \n",
    "# SCRAPING JOB LOCATIONS IN ONE GO\n",
    "job_loc = driver.find_elements (By.XPATH,'//span[@class=\"ellipsis fleft locWdth\"]')\n",
    "for i in job_loc [0:10]:\n",
    "    location = i.text\n",
    "    JOB_LOCATIONS.append (location)\n",
    "    \n",
    "    \n",
    "    \n",
    "# SCRAPING COMPANY NAMES IN ONE GO\n",
    "com_nm = driver.find_elements (By.XPATH,'//a[@class=\"subTitle ellipsis fleft\"]')\n",
    "for i in com_nm [0:10]:\n",
    "    companies = i.text\n",
    "    COMPANY_NAMES.append (companies)\n",
    "    \n",
    "    \n",
    "    \n",
    "# SCRAPING EXPERIENCE REQUIRED IN ONE GO\n",
    "exp_rq = driver.find_elements (By.XPATH,'//span[@class=\"ellipsis fleft expwdth\"]')\n",
    "for i in exp_rq [0:10]:\n",
    "    experience = i.text\n",
    "    EXPERIENCE_REQUIRED.append (experience )"
   ]
  },
  {
   "cell_type": "code",
   "execution_count": 32,
   "id": "ca6c89a9",
   "metadata": {},
   "outputs": [
    {
     "name": "stdout",
     "output_type": "stream",
     "text": [
      "10 10 10 10\n"
     ]
    }
   ],
   "source": [
    "# PRINTING LENGHT IN ONE GO\n",
    "print (len(JOB_TITLES),len(JOB_LOCATIONS),len(COMPANY_NAMES),len(EXPERIENCE_REQUIRED))"
   ]
  },
  {
   "cell_type": "code",
   "execution_count": 33,
   "id": "9e6563dc",
   "metadata": {},
   "outputs": [
    {
     "data": {
      "text/html": [
       "<div>\n",
       "<style scoped>\n",
       "    .dataframe tbody tr th:only-of-type {\n",
       "        vertical-align: middle;\n",
       "    }\n",
       "\n",
       "    .dataframe tbody tr th {\n",
       "        vertical-align: top;\n",
       "    }\n",
       "\n",
       "    .dataframe thead th {\n",
       "        text-align: right;\n",
       "    }\n",
       "</style>\n",
       "<table border=\"1\" class=\"dataframe\">\n",
       "  <thead>\n",
       "    <tr style=\"text-align: right;\">\n",
       "      <th></th>\n",
       "      <th>JOB_TITLES</th>\n",
       "      <th>JOB_LOCATIONS</th>\n",
       "      <th>COMPANY_NAMES</th>\n",
       "      <th>EXPERIENCE_REQUIRED</th>\n",
       "    </tr>\n",
       "  </thead>\n",
       "  <tbody>\n",
       "    <tr>\n",
       "      <th>0</th>\n",
       "      <td>Data Science Professional - IBM SPSS Statistic...</td>\n",
       "      <td>Noida, Mumbai, Pune, Chennai, Bangalore/Bengaluru</td>\n",
       "      <td>Hexaware Technologies</td>\n",
       "      <td>5-8 Yrs</td>\n",
       "    </tr>\n",
       "    <tr>\n",
       "      <th>1</th>\n",
       "      <td>Senior data scientist</td>\n",
       "      <td>Mumbai, Pune, Chennai, Gurgaon/Gurugram, Banga...</td>\n",
       "      <td>Fractal Analytics</td>\n",
       "      <td>4-8 Yrs</td>\n",
       "    </tr>\n",
       "    <tr>\n",
       "      <th>2</th>\n",
       "      <td>Data Scientist_NLP</td>\n",
       "      <td>Mumbai, Pune, Chennai, Gurgaon/Gurugram, Banga...</td>\n",
       "      <td>Fractal Analytics</td>\n",
       "      <td>5-11 Yrs</td>\n",
       "    </tr>\n",
       "    <tr>\n",
       "      <th>3</th>\n",
       "      <td>Data Scientist</td>\n",
       "      <td>Mumbai, Pune, Chennai, Gurgaon/Gurugram, Banga...</td>\n",
       "      <td>Fractal Analytics</td>\n",
       "      <td>3-7 Yrs</td>\n",
       "    </tr>\n",
       "    <tr>\n",
       "      <th>4</th>\n",
       "      <td>Machine Learning (AI) Architect</td>\n",
       "      <td>Kolkata, Mumbai, New Delhi, Hyderabad/Secunder...</td>\n",
       "      <td>Persistent</td>\n",
       "      <td>5-12 Yrs</td>\n",
       "    </tr>\n",
       "    <tr>\n",
       "      <th>5</th>\n",
       "      <td>Data Scientist</td>\n",
       "      <td>Kolkata, Mumbai, New Delhi, Hyderabad/Secunder...</td>\n",
       "      <td>Fortuna Entertainment Group</td>\n",
       "      <td>5-8 Yrs</td>\n",
       "    </tr>\n",
       "    <tr>\n",
       "      <th>6</th>\n",
       "      <td>Data Scientist</td>\n",
       "      <td>Temp. WFH - Kochi/Cochin, Kolkata, Hyderabad/S...</td>\n",
       "      <td>Cognizant</td>\n",
       "      <td>6-10 Yrs</td>\n",
       "    </tr>\n",
       "    <tr>\n",
       "      <th>7</th>\n",
       "      <td>Data Scientist</td>\n",
       "      <td>Hyderabad/Secunderabad, Gurgaon/Gurugram, Bang...</td>\n",
       "      <td>Tech Mahindra</td>\n",
       "      <td>5-10 Yrs</td>\n",
       "    </tr>\n",
       "    <tr>\n",
       "      <th>8</th>\n",
       "      <td>Senior Data Scientist</td>\n",
       "      <td>Kolkata, Mumbai, New Delhi, Hyderabad/Secunder...</td>\n",
       "      <td>Corporate Steps</td>\n",
       "      <td>5-10 Yrs</td>\n",
       "    </tr>\n",
       "    <tr>\n",
       "      <th>9</th>\n",
       "      <td>Junior Data Scientist</td>\n",
       "      <td>Kolkata, Mumbai, New Delhi, Hyderabad/Secunder...</td>\n",
       "      <td>Analytos</td>\n",
       "      <td>0-2 Yrs</td>\n",
       "    </tr>\n",
       "  </tbody>\n",
       "</table>\n",
       "</div>"
      ],
      "text/plain": [
       "                                          JOB_TITLES  \\\n",
       "0  Data Science Professional - IBM SPSS Statistic...   \n",
       "1                              Senior data scientist   \n",
       "2                                 Data Scientist_NLP   \n",
       "3                                     Data Scientist   \n",
       "4                    Machine Learning (AI) Architect   \n",
       "5                                     Data Scientist   \n",
       "6                                     Data Scientist   \n",
       "7                                     Data Scientist   \n",
       "8                              Senior Data Scientist   \n",
       "9                              Junior Data Scientist   \n",
       "\n",
       "                                       JOB_LOCATIONS  \\\n",
       "0  Noida, Mumbai, Pune, Chennai, Bangalore/Bengaluru   \n",
       "1  Mumbai, Pune, Chennai, Gurgaon/Gurugram, Banga...   \n",
       "2  Mumbai, Pune, Chennai, Gurgaon/Gurugram, Banga...   \n",
       "3  Mumbai, Pune, Chennai, Gurgaon/Gurugram, Banga...   \n",
       "4  Kolkata, Mumbai, New Delhi, Hyderabad/Secunder...   \n",
       "5  Kolkata, Mumbai, New Delhi, Hyderabad/Secunder...   \n",
       "6  Temp. WFH - Kochi/Cochin, Kolkata, Hyderabad/S...   \n",
       "7  Hyderabad/Secunderabad, Gurgaon/Gurugram, Bang...   \n",
       "8  Kolkata, Mumbai, New Delhi, Hyderabad/Secunder...   \n",
       "9  Kolkata, Mumbai, New Delhi, Hyderabad/Secunder...   \n",
       "\n",
       "                 COMPANY_NAMES EXPERIENCE_REQUIRED  \n",
       "0        Hexaware Technologies             5-8 Yrs  \n",
       "1            Fractal Analytics             4-8 Yrs  \n",
       "2            Fractal Analytics            5-11 Yrs  \n",
       "3            Fractal Analytics             3-7 Yrs  \n",
       "4                   Persistent            5-12 Yrs  \n",
       "5  Fortuna Entertainment Group             5-8 Yrs  \n",
       "6                    Cognizant            6-10 Yrs  \n",
       "7                Tech Mahindra            5-10 Yrs  \n",
       "8              Corporate Steps            5-10 Yrs  \n",
       "9                     Analytos             0-2 Yrs  "
      ]
     },
     "execution_count": 33,
     "metadata": {},
     "output_type": "execute_result"
    }
   ],
   "source": [
    "# MAKING DATA FRAME AND DISPLAY IN DATA FRAME FORMAT\n",
    "df = pd.DataFrame ({'JOB_TITLES':JOB_TITLES,'JOB_LOCATIONS':JOB_LOCATIONS,'COMPANY_NAMES':COMPANY_NAMES,'EXPERIENCE_REQUIRED':EXPERIENCE_REQUIRED})\n",
    "df"
   ]
  },
  {
   "cell_type": "code",
   "execution_count": null,
   "id": "a163b6b7",
   "metadata": {},
   "outputs": [],
   "source": []
  }
 ],
 "metadata": {
  "kernelspec": {
   "display_name": "Python 3 (ipykernel)",
   "language": "python",
   "name": "python3"
  },
  "language_info": {
   "codemirror_mode": {
    "name": "ipython",
    "version": 3
   },
   "file_extension": ".py",
   "mimetype": "text/x-python",
   "name": "python",
   "nbconvert_exporter": "python",
   "pygments_lexer": "ipython3",
   "version": "3.9.13"
  }
 },
 "nbformat": 4,
 "nbformat_minor": 5
}
