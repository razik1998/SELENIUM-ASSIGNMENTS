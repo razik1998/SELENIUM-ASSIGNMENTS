{
 "cells": [
  {
   "cell_type": "code",
   "execution_count": 1,
   "id": "924806ea",
   "metadata": {},
   "outputs": [],
   "source": [
    "#  Q1: Write a python program to scrape data for “Data Analyst” Job position in “Bangalore” location. You \n",
    "#      have to scrape the job-title, job-location, company_name, experience_required. You have to scrape first 10 \n",
    "#      jobs data.\n"
   ]
  },
  {
   "cell_type": "code",
   "execution_count": 2,
   "id": "1ffbf45e",
   "metadata": {},
   "outputs": [
    {
     "name": "stdout",
     "output_type": "stream",
     "text": [
      "Defaulting to user installation because normal site-packages is not writeable\n",
      "Collecting selenium\n",
      "  Downloading selenium-4.8.3-py3-none-any.whl (6.5 MB)\n",
      "     ---------------------------------------- 6.5/6.5 MB 2.1 MB/s eta 0:00:00\n",
      "Requirement already satisfied: certifi>=2021.10.8 in c:\\programdata\\anaconda3\\lib\\site-packages (from selenium) (2022.9.14)\n",
      "Requirement already satisfied: urllib3[socks]~=1.26 in c:\\programdata\\anaconda3\\lib\\site-packages (from selenium) (1.26.11)\n",
      "Collecting trio~=0.17\n",
      "  Downloading trio-0.22.0-py3-none-any.whl (384 kB)\n",
      "     -------------------------------------- 384.9/384.9 kB 2.0 MB/s eta 0:00:00\n",
      "Collecting trio-websocket~=0.9\n",
      "  Downloading trio_websocket-0.10.2-py3-none-any.whl (17 kB)\n",
      "Requirement already satisfied: sortedcontainers in c:\\programdata\\anaconda3\\lib\\site-packages (from trio~=0.17->selenium) (2.4.0)\n",
      "Collecting async-generator>=1.9\n",
      "  Downloading async_generator-1.10-py3-none-any.whl (18 kB)\n",
      "Collecting exceptiongroup>=1.0.0rc9\n",
      "  Downloading exceptiongroup-1.1.1-py3-none-any.whl (14 kB)\n",
      "Requirement already satisfied: idna in c:\\programdata\\anaconda3\\lib\\site-packages (from trio~=0.17->selenium) (3.3)\n",
      "Requirement already satisfied: sniffio in c:\\programdata\\anaconda3\\lib\\site-packages (from trio~=0.17->selenium) (1.2.0)\n",
      "Requirement already satisfied: cffi>=1.14 in c:\\programdata\\anaconda3\\lib\\site-packages (from trio~=0.17->selenium) (1.15.1)\n",
      "Requirement already satisfied: attrs>=19.2.0 in c:\\programdata\\anaconda3\\lib\\site-packages (from trio~=0.17->selenium) (21.4.0)\n",
      "Collecting outcome\n",
      "  Downloading outcome-1.2.0-py2.py3-none-any.whl (9.7 kB)\n",
      "Collecting wsproto>=0.14\n",
      "  Downloading wsproto-1.2.0-py3-none-any.whl (24 kB)\n",
      "Requirement already satisfied: PySocks!=1.5.7,<2.0,>=1.5.6 in c:\\programdata\\anaconda3\\lib\\site-packages (from urllib3[socks]~=1.26->selenium) (1.7.1)\n",
      "Requirement already satisfied: pycparser in c:\\programdata\\anaconda3\\lib\\site-packages (from cffi>=1.14->trio~=0.17->selenium) (2.21)\n",
      "Collecting h11<1,>=0.9.0\n",
      "  Downloading h11-0.14.0-py3-none-any.whl (58 kB)\n",
      "     ---------------------------------------- 58.3/58.3 kB 3.0 MB/s eta 0:00:00\n",
      "Installing collected packages: outcome, h11, exceptiongroup, async-generator, wsproto, trio, trio-websocket, selenium\n",
      "Successfully installed async-generator-1.10 exceptiongroup-1.1.1 h11-0.14.0 outcome-1.2.0 selenium-4.8.3 trio-0.22.0 trio-websocket-0.10.2 wsproto-1.2.0\n"
     ]
    }
   ],
   "source": [
    "# INSTALLING SELENIUM PACKAGE\n",
    "! pip install selenium"
   ]
  },
  {
   "cell_type": "code",
   "execution_count": 1,
   "id": "4f953408",
   "metadata": {},
   "outputs": [],
   "source": [
    "#  IMPORTING REQUIRED LABRARIES\n",
    "\n",
    "import selenium \n",
    "import pandas as pd \n",
    "from selenium import webdriver\n",
    "import warnings\n",
    "warnings.filterwarnings ('ignore')\n",
    "from selenium.common.exceptions import StaleElementReferenceException, NoSuchElementException\n",
    "from selenium.webdriver.common.by import By\n",
    "import time"
   ]
  },
  {
   "cell_type": "code",
   "execution_count": 2,
   "id": "8596003f",
   "metadata": {},
   "outputs": [],
   "source": [
    "#  CONNECTING TO THE DRIVER\n",
    "driver=webdriver.Chrome(r\"C:\\Users\\ASUS\\Downloads\\chromedriver.exe\")"
   ]
  },
  {
   "cell_type": "code",
   "execution_count": 3,
   "id": "896d7945",
   "metadata": {},
   "outputs": [],
   "source": [
    "#  OPENING THE NAUKRI PAGE ON AUTOMATED CHROME BROWSER\n",
    "driver.get(\"https://www.naukri.com/\")"
   ]
  },
  {
   "cell_type": "code",
   "execution_count": 4,
   "id": "2e0fb42d",
   "metadata": {},
   "outputs": [],
   "source": [
    "#  CREATING EMPTY LIST\n",
    "\n",
    "JOB_TITLE     = []\n",
    "JOB_LOCATION  = []\n",
    "COMPANY_NAME  = []\n",
    "EXPERIENCE_REQUIRED = []"
   ]
  },
  {
   "cell_type": "code",
   "execution_count": 5,
   "id": "6407d6c1",
   "metadata": {},
   "outputs": [],
   "source": [
    "#   ENTERING DESIGNATION AS REQUIRED \n",
    "designation = driver.find_element (By.CLASS_NAME,\"suggestor-input\")\n",
    "designation.send_keys ('Data Analyst')"
   ]
  },
  {
   "cell_type": "code",
   "execution_count": 6,
   "id": "15461619",
   "metadata": {},
   "outputs": [],
   "source": [
    "#   ENTERING LOCATION AS REQUIRED \n",
    "location = driver.find_element (By.XPATH,\"/html/body/div[1]/div[7]/div/div/div[5]/div/div/div/div[1]/div/input\")\n",
    "location.send_keys('Bangalore')"
   ]
  },
  {
   "cell_type": "code",
   "execution_count": 7,
   "id": "0b383847",
   "metadata": {},
   "outputs": [],
   "source": [
    "#  CLICKING SEARCH BUTTON \n",
    "search = driver.find_element (By.CLASS_NAME,\"qsbSubmit\")\n",
    "search.click()"
   ]
  },
  {
   "cell_type": "code",
   "execution_count": 10,
   "id": "bf2e3e91",
   "metadata": {},
   "outputs": [],
   "source": [
    "# SCRAPING JOB TITLES IN ONE GO\n",
    "Job_desig = driver.find_elements (By.XPATH,'//a[@class=\"title ellipsis\"]')\n",
    "for i in Job_desig [0:10]:\n",
    "    Jobs = i.text\n",
    "    JOB_TITLE.append(Jobs)\n",
    "    \n",
    "    \n",
    "\n",
    "# SCRAPING JOB LOCATIONS IN ONE GO\n",
    "Job_loc = driver.find_elements (By.XPATH,'//span[@class=\"ellipsis fleft locWdth\"]')\n",
    "for i in Job_loc [0:10]:\n",
    "    location = i.text\n",
    "    JOB_LOCATION.append (location)\n",
    "    \n",
    "    \n",
    "    \n",
    "# SCRAPING COMPANY NAMES IN ONE GO\n",
    "com_nm = driver.find_elements (By.XPATH,'//a[@class=\"subTitle ellipsis fleft\"]')\n",
    "for i in com_nm [0:10]:\n",
    "    companies = i.text\n",
    "    COMPANY_NAME.append (companies)\n",
    "    \n",
    "    \n",
    "    \n",
    "# SCRAPING EXPERIENCE REQUIRED IN ONE GO\n",
    "exp_req = driver.find_elements (By.XPATH,'//span[@class=\"ellipsis fleft expwdth\"]')\n",
    "for i in exp_req [0:10]:\n",
    "    experience = i.text\n",
    "    EXPERIENCE_REQUIRED.append (experience)"
   ]
  },
  {
   "cell_type": "code",
   "execution_count": 11,
   "id": "870cd0ba",
   "metadata": {},
   "outputs": [
    {
     "name": "stdout",
     "output_type": "stream",
     "text": [
      "10 10 10 10\n"
     ]
    }
   ],
   "source": [
    "# PRINTING LENGHT IN ONE GO\n",
    "print (len(JOB_TITLE),len(JOB_LOCATION),len(COMPANY_NAME),len(EXPERIENCE_REQUIRED))"
   ]
  },
  {
   "cell_type": "code",
   "execution_count": 12,
   "id": "580d77bd",
   "metadata": {},
   "outputs": [
    {
     "data": {
      "text/html": [
       "<div>\n",
       "<style scoped>\n",
       "    .dataframe tbody tr th:only-of-type {\n",
       "        vertical-align: middle;\n",
       "    }\n",
       "\n",
       "    .dataframe tbody tr th {\n",
       "        vertical-align: top;\n",
       "    }\n",
       "\n",
       "    .dataframe thead th {\n",
       "        text-align: right;\n",
       "    }\n",
       "</style>\n",
       "<table border=\"1\" class=\"dataframe\">\n",
       "  <thead>\n",
       "    <tr style=\"text-align: right;\">\n",
       "      <th></th>\n",
       "      <th>ALL_TITLES</th>\n",
       "      <th>ALL_LOCATIONS</th>\n",
       "      <th>ALL_COMPANIES</th>\n",
       "      <th>ALL_EXPERIENCE</th>\n",
       "    </tr>\n",
       "  </thead>\n",
       "  <tbody>\n",
       "    <tr>\n",
       "      <th>0</th>\n",
       "      <td>Data Engineer/Data Analyst</td>\n",
       "      <td>Hybrid - Bangalore/Bengaluru, Kolkata, Hyderab...</td>\n",
       "      <td>Tech Mahindra</td>\n",
       "      <td>6-11 Yrs</td>\n",
       "    </tr>\n",
       "    <tr>\n",
       "      <th>1</th>\n",
       "      <td>Data Analyst</td>\n",
       "      <td>Bangalore/Bengaluru</td>\n",
       "      <td>Ingersoll Rand</td>\n",
       "      <td>3-6 Yrs</td>\n",
       "    </tr>\n",
       "    <tr>\n",
       "      <th>2</th>\n",
       "      <td>Data Analyst</td>\n",
       "      <td>Bangalore/Bengaluru</td>\n",
       "      <td>Unusual Hire</td>\n",
       "      <td>1-4 Yrs</td>\n",
       "    </tr>\n",
       "    <tr>\n",
       "      <th>3</th>\n",
       "      <td>Data Analyst - Contractual</td>\n",
       "      <td>Bangalore/Bengaluru</td>\n",
       "      <td>Search Advisers Services Guj</td>\n",
       "      <td>2-3 Yrs</td>\n",
       "    </tr>\n",
       "    <tr>\n",
       "      <th>4</th>\n",
       "      <td>Data Analyst - Contractual</td>\n",
       "      <td>Bangalore/Bengaluru</td>\n",
       "      <td>Search Advisers Services Guj</td>\n",
       "      <td>2-3 Yrs</td>\n",
       "    </tr>\n",
       "    <tr>\n",
       "      <th>5</th>\n",
       "      <td>ExcelHER-Data Analyst</td>\n",
       "      <td>Bangalore/Bengaluru, Kolkata, Mumbai, New Delh...</td>\n",
       "      <td>Volvo Financial Services</td>\n",
       "      <td>3-5 Yrs</td>\n",
       "    </tr>\n",
       "    <tr>\n",
       "      <th>6</th>\n",
       "      <td>Data Analyst</td>\n",
       "      <td>Bangalore/Bengaluru</td>\n",
       "      <td>Clarivate</td>\n",
       "      <td>2-4 Yrs</td>\n",
       "    </tr>\n",
       "    <tr>\n",
       "      <th>7</th>\n",
       "      <td>Data Analyst</td>\n",
       "      <td>Bangalore/Bengaluru</td>\n",
       "      <td>Novel Office</td>\n",
       "      <td>0-2 Yrs</td>\n",
       "    </tr>\n",
       "    <tr>\n",
       "      <th>8</th>\n",
       "      <td>Data Analyst - EdTech</td>\n",
       "      <td>Bangalore/Bengaluru</td>\n",
       "      <td>Talentstack</td>\n",
       "      <td>2-6 Yrs</td>\n",
       "    </tr>\n",
       "    <tr>\n",
       "      <th>9</th>\n",
       "      <td>Data Analyst - MySQL</td>\n",
       "      <td>Bangalore/Bengaluru</td>\n",
       "      <td>Talentstack</td>\n",
       "      <td>2-7 Yrs</td>\n",
       "    </tr>\n",
       "  </tbody>\n",
       "</table>\n",
       "</div>"
      ],
      "text/plain": [
       "                   ALL_TITLES  \\\n",
       "0  Data Engineer/Data Analyst   \n",
       "1                Data Analyst   \n",
       "2                Data Analyst   \n",
       "3  Data Analyst - Contractual   \n",
       "4  Data Analyst - Contractual   \n",
       "5       ExcelHER-Data Analyst   \n",
       "6                Data Analyst   \n",
       "7                Data Analyst   \n",
       "8       Data Analyst - EdTech   \n",
       "9        Data Analyst - MySQL   \n",
       "\n",
       "                                       ALL_LOCATIONS  \\\n",
       "0  Hybrid - Bangalore/Bengaluru, Kolkata, Hyderab...   \n",
       "1                                Bangalore/Bengaluru   \n",
       "2                                Bangalore/Bengaluru   \n",
       "3                                Bangalore/Bengaluru   \n",
       "4                                Bangalore/Bengaluru   \n",
       "5  Bangalore/Bengaluru, Kolkata, Mumbai, New Delh...   \n",
       "6                                Bangalore/Bengaluru   \n",
       "7                                Bangalore/Bengaluru   \n",
       "8                                Bangalore/Bengaluru   \n",
       "9                                Bangalore/Bengaluru   \n",
       "\n",
       "                  ALL_COMPANIES ALL_EXPERIENCE  \n",
       "0                 Tech Mahindra       6-11 Yrs  \n",
       "1                Ingersoll Rand        3-6 Yrs  \n",
       "2                  Unusual Hire        1-4 Yrs  \n",
       "3  Search Advisers Services Guj        2-3 Yrs  \n",
       "4  Search Advisers Services Guj        2-3 Yrs  \n",
       "5      Volvo Financial Services        3-5 Yrs  \n",
       "6                     Clarivate        2-4 Yrs  \n",
       "7                  Novel Office        0-2 Yrs  \n",
       "8                   Talentstack        2-6 Yrs  \n",
       "9                   Talentstack        2-7 Yrs  "
      ]
     },
     "execution_count": 12,
     "metadata": {},
     "output_type": "execute_result"
    }
   ],
   "source": [
    "# MAKING DATA FRAME AND DISPLAYING IN DATA FRAME FORMAT\n",
    "\n",
    "df = pd.DataFrame ({'ALL_TITLES':JOB_TITLE,'ALL_LOCATIONS':JOB_LOCATION,'ALL_COMPANIES':COMPANY_NAME,'ALL_EXPERIENCE':EXPERIENCE_REQUIRED})\n",
    "df"
   ]
  },
  {
   "cell_type": "code",
   "execution_count": null,
   "id": "fd413582",
   "metadata": {},
   "outputs": [],
   "source": []
  }
 ],
 "metadata": {
  "kernelspec": {
   "display_name": "Python 3 (ipykernel)",
   "language": "python",
   "name": "python3"
  },
  "language_info": {
   "codemirror_mode": {
    "name": "ipython",
    "version": 3
   },
   "file_extension": ".py",
   "mimetype": "text/x-python",
   "name": "python",
   "nbconvert_exporter": "python",
   "pygments_lexer": "ipython3",
   "version": "3.9.13"
  }
 },
 "nbformat": 4,
 "nbformat_minor": 5
}
