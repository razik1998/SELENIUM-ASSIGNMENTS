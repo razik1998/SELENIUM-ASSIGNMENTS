{
 "cells": [
  {
   "cell_type": "code",
   "execution_count": 2,
   "id": "35c8716b",
   "metadata": {},
   "outputs": [],
   "source": [
    "#  Q2:Write a python program to scrape data for “Data Scientist” Job position in “Bangalore” location. You \n",
    "#     have to scrape the job-title, job-location, company_name. You have to scrape first 10 jobs data.\n",
    "#     This task will be done in following steps:\n",
    "https://www.naukri.com/"
   ]
  },
  {
   "cell_type": "code",
   "execution_count": 3,
   "id": "d5fd7331",
   "metadata": {},
   "outputs": [],
   "source": [
    "#  IMPORTING ALL REQUIRED LABRARIES\n",
    "\n",
    "import selenium \n",
    "import pandas as pd \n",
    "from selenium import webdriver\n",
    "import warnings\n",
    "warnings.filterwarnings ('ignore')\n",
    "from selenium.common.exceptions import StaleElementReferenceException, NoSuchElementException\n",
    "from selenium.webdriver.common.by import By\n",
    "import time"
   ]
  },
  {
   "cell_type": "code",
   "execution_count": 4,
   "id": "907eb46e",
   "metadata": {},
   "outputs": [],
   "source": [
    "#  CONNECTING TO THE DRIVER\n",
    "driver=webdriver.Chrome(r\"C:\\Users\\ASUS\\Downloads\\chromedriver.exe\")"
   ]
  },
  {
   "cell_type": "code",
   "execution_count": 5,
   "id": "9874bb70",
   "metadata": {},
   "outputs": [],
   "source": [
    "#  OPENING THE NAUKRI PAGE ON AUTOMATED CHROME BROWSER\n",
    "driver.get(\"https://www.naukri.com/\")"
   ]
  },
  {
   "cell_type": "code",
   "execution_count": 6,
   "id": "e38a9f72",
   "metadata": {},
   "outputs": [],
   "source": [
    "#   ENTERING DESIGNATION AS REQUIRED \n",
    "designation = driver.find_element (By.CLASS_NAME,\"suggestor-input\")\n",
    "designation.send_keys ('Data Scientist')"
   ]
  },
  {
   "cell_type": "code",
   "execution_count": 7,
   "id": "634409db",
   "metadata": {},
   "outputs": [],
   "source": [
    "#   ENTERING LOCATION AS REQUIRED \n",
    "location = driver.find_element (By.XPATH,\"/html/body/div[1]/div[7]/div/div/div[5]/div/div/div/div[1]/div/input\")\n",
    "location.send_keys('Bangalore')"
   ]
  },
  {
   "cell_type": "code",
   "execution_count": 8,
   "id": "4f1a1fbf",
   "metadata": {},
   "outputs": [],
   "source": [
    "#  CLICKING SEARCH BUTTON \n",
    "search = driver.find_element (By.CLASS_NAME,\"qsbSubmit\")\n",
    "search.click()"
   ]
  },
  {
   "cell_type": "code",
   "execution_count": 9,
   "id": "14322327",
   "metadata": {},
   "outputs": [],
   "source": [
    "# CREATING EMPTY LIST\n",
    "JOB_TITLES     = []\n",
    "JOB_LOCATIONS  = []\n",
    "COMPANY_NAMES  = []"
   ]
  },
  {
   "cell_type": "code",
   "execution_count": 10,
   "id": "abb43396",
   "metadata": {},
   "outputs": [],
   "source": [
    "# SCRAPING JOB TITLES IN ONE GO\n",
    "job_nm = driver.find_elements (By.XPATH,'//a[@class=\"title ellipsis\"]')\n",
    "for i in job_nm [0:10]:\n",
    "    jbs = i.text\n",
    "    JOB_TITLES.append (jbs)\n",
    "    \n",
    "    \n",
    "    \n",
    "# SCRAPING JOB LOCATIONS IN ONE GO\n",
    "job_loc = driver.find_elements (By.XPATH,'//span[@class=\"ellipsis fleft locWdth\"]')\n",
    "for i in job_loc [0:10]:\n",
    "    location = i.text\n",
    "    JOB_LOCATIONS.append (location)\n",
    "    \n",
    "    \n",
    "    \n",
    "# SCRAPING COMPANIES NAME IN ONE GO\n",
    "com_name = driver.find_elements (By.XPATH,'//a[@class=\"subTitle ellipsis fleft\"]')\n",
    "for i in com_name [0:10]:\n",
    "    companies = i.text\n",
    "    COMPANY_NAMES.append (companies)\n",
    "    \n",
    "    "
   ]
  },
  {
   "cell_type": "code",
   "execution_count": 12,
   "id": "97f5b7da",
   "metadata": {},
   "outputs": [
    {
     "name": "stdout",
     "output_type": "stream",
     "text": [
      "10 10 10\n"
     ]
    }
   ],
   "source": [
    "#  PRINTING LENGHTS IN ONE GO\n",
    "print (len(JOB_TITLES),len(JOB_LOCATIONS),len(COMPANY_NAMES))"
   ]
  },
  {
   "cell_type": "code",
   "execution_count": 13,
   "id": "37fae59d",
   "metadata": {},
   "outputs": [
    {
     "data": {
      "text/html": [
       "<div>\n",
       "<style scoped>\n",
       "    .dataframe tbody tr th:only-of-type {\n",
       "        vertical-align: middle;\n",
       "    }\n",
       "\n",
       "    .dataframe tbody tr th {\n",
       "        vertical-align: top;\n",
       "    }\n",
       "\n",
       "    .dataframe thead th {\n",
       "        text-align: right;\n",
       "    }\n",
       "</style>\n",
       "<table border=\"1\" class=\"dataframe\">\n",
       "  <thead>\n",
       "    <tr style=\"text-align: right;\">\n",
       "      <th></th>\n",
       "      <th>ALL_TITLES</th>\n",
       "      <th>ALL_LOCATIONS</th>\n",
       "      <th>ALL_COMPANIES</th>\n",
       "    </tr>\n",
       "  </thead>\n",
       "  <tbody>\n",
       "    <tr>\n",
       "      <th>0</th>\n",
       "      <td>Data Science Professional - IBM SPSS Statistic...</td>\n",
       "      <td>Bangalore/Bengaluru, Noida, Mumbai, Pune, Chennai</td>\n",
       "      <td>Hexaware Technologies</td>\n",
       "    </tr>\n",
       "    <tr>\n",
       "      <th>1</th>\n",
       "      <td>Data Science Specialist</td>\n",
       "      <td>Bangalore/Bengaluru, Kolkata, Mumbai, Hyderaba...</td>\n",
       "      <td>Accenture</td>\n",
       "    </tr>\n",
       "    <tr>\n",
       "      <th>2</th>\n",
       "      <td>Analystics &amp; Modeling Specialist</td>\n",
       "      <td>Bangalore/Bengaluru, Kolkata, Mumbai, Hyderaba...</td>\n",
       "      <td>Accenture</td>\n",
       "    </tr>\n",
       "    <tr>\n",
       "      <th>3</th>\n",
       "      <td>Senior data scientist</td>\n",
       "      <td>Bangalore/Bengaluru, Mumbai, Pune, Chennai, Gu...</td>\n",
       "      <td>Fractal Analytics</td>\n",
       "    </tr>\n",
       "    <tr>\n",
       "      <th>4</th>\n",
       "      <td>Data Scientist_NLP</td>\n",
       "      <td>Bangalore/Bengaluru, Mumbai, Pune, Chennai, Gu...</td>\n",
       "      <td>Fractal Analytics</td>\n",
       "    </tr>\n",
       "    <tr>\n",
       "      <th>5</th>\n",
       "      <td>Data Scientist</td>\n",
       "      <td>Bangalore/Bengaluru, Mumbai, Pune, Chennai, Gu...</td>\n",
       "      <td>Fractal Analytics</td>\n",
       "    </tr>\n",
       "    <tr>\n",
       "      <th>6</th>\n",
       "      <td>Machine Learning (AI) Architect</td>\n",
       "      <td>Bangalore/Bengaluru, Kolkata, Mumbai, New Delh...</td>\n",
       "      <td>Persistent</td>\n",
       "    </tr>\n",
       "    <tr>\n",
       "      <th>7</th>\n",
       "      <td>Manager - Innovations Hub - Machine Learning</td>\n",
       "      <td>Bangalore/Bengaluru, Mumbai, Hyderabad/Secunde...</td>\n",
       "      <td>PwC</td>\n",
       "    </tr>\n",
       "    <tr>\n",
       "      <th>8</th>\n",
       "      <td>Data Scientist</td>\n",
       "      <td>Bangalore/Bengaluru</td>\n",
       "      <td>IBM</td>\n",
       "    </tr>\n",
       "    <tr>\n",
       "      <th>9</th>\n",
       "      <td>Data Scientist</td>\n",
       "      <td>Bangalore/Bengaluru</td>\n",
       "      <td>IBM</td>\n",
       "    </tr>\n",
       "  </tbody>\n",
       "</table>\n",
       "</div>"
      ],
      "text/plain": [
       "                                          ALL_TITLES  \\\n",
       "0  Data Science Professional - IBM SPSS Statistic...   \n",
       "1                            Data Science Specialist   \n",
       "2                   Analystics & Modeling Specialist   \n",
       "3                              Senior data scientist   \n",
       "4                                 Data Scientist_NLP   \n",
       "5                                     Data Scientist   \n",
       "6                    Machine Learning (AI) Architect   \n",
       "7       Manager - Innovations Hub - Machine Learning   \n",
       "8                                     Data Scientist   \n",
       "9                                     Data Scientist   \n",
       "\n",
       "                                       ALL_LOCATIONS          ALL_COMPANIES  \n",
       "0  Bangalore/Bengaluru, Noida, Mumbai, Pune, Chennai  Hexaware Technologies  \n",
       "1  Bangalore/Bengaluru, Kolkata, Mumbai, Hyderaba...              Accenture  \n",
       "2  Bangalore/Bengaluru, Kolkata, Mumbai, Hyderaba...              Accenture  \n",
       "3  Bangalore/Bengaluru, Mumbai, Pune, Chennai, Gu...      Fractal Analytics  \n",
       "4  Bangalore/Bengaluru, Mumbai, Pune, Chennai, Gu...      Fractal Analytics  \n",
       "5  Bangalore/Bengaluru, Mumbai, Pune, Chennai, Gu...      Fractal Analytics  \n",
       "6  Bangalore/Bengaluru, Kolkata, Mumbai, New Delh...             Persistent  \n",
       "7  Bangalore/Bengaluru, Mumbai, Hyderabad/Secunde...                    PwC  \n",
       "8                                Bangalore/Bengaluru                    IBM  \n",
       "9                                Bangalore/Bengaluru                    IBM  "
      ]
     },
     "execution_count": 13,
     "metadata": {},
     "output_type": "execute_result"
    }
   ],
   "source": [
    "# MAKING DATA FRAME AND DISPLAY IN DATA FRAME FORMAT \n",
    "\n",
    "df = pd.DataFrame ({'ALL_TITLES':JOB_TITLES,'ALL_LOCATIONS':JOB_LOCATIONS,'ALL_COMPANIES':COMPANY_NAMES})\n",
    "df"
   ]
  },
  {
   "cell_type": "code",
   "execution_count": null,
   "id": "cdebedee",
   "metadata": {},
   "outputs": [],
   "source": []
  }
 ],
 "metadata": {
  "kernelspec": {
   "display_name": "Python 3 (ipykernel)",
   "language": "python",
   "name": "python3"
  },
  "language_info": {
   "codemirror_mode": {
    "name": "ipython",
    "version": 3
   },
   "file_extension": ".py",
   "mimetype": "text/x-python",
   "name": "python",
   "nbconvert_exporter": "python",
   "pygments_lexer": "ipython3",
   "version": "3.9.13"
  }
 },
 "nbformat": 4,
 "nbformat_minor": 5
}
