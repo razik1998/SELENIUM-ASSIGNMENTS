{
 "cells": [
  {
   "cell_type": "code",
   "execution_count": 1,
   "id": "831ef817",
   "metadata": {},
   "outputs": [],
   "source": [
    "#  Q8: Write a python program to scrape data for Top 1000 Quotes of All Time"
   ]
  },
  {
   "cell_type": "code",
   "execution_count": 2,
   "id": "81ebc4a4",
   "metadata": {},
   "outputs": [],
   "source": [
    "#  IMPORTING REQUIRED LABRARIES\n",
    "\n",
    "import selenium \n",
    "import pandas as pd \n",
    "from selenium import webdriver\n",
    "import warnings\n",
    "warnings.filterwarnings ('ignore')\n",
    "from selenium.common.exceptions import StaleElementReferenceException, NoSuchElementException\n",
    "from selenium.webdriver.common.by import By\n",
    "import time"
   ]
  },
  {
   "cell_type": "code",
   "execution_count": 3,
   "id": "95c485cc",
   "metadata": {},
   "outputs": [],
   "source": [
    "#  CONNECTING TO THE DRIVER\n",
    "driver=webdriver.Chrome(r\"C:\\Users\\ASUS\\Downloads\\chromedriver.exe\")"
   ]
  },
  {
   "cell_type": "code",
   "execution_count": 4,
   "id": "8052509e",
   "metadata": {},
   "outputs": [],
   "source": [
    "#  OPENING THE NAUKRI PAGE ON AUTOMATED CHROME BROWSER\n",
    "driver.get(\"https://www.azquotes.com/\")"
   ]
  },
  {
   "cell_type": "code",
   "execution_count": 6,
   "id": "c7db7993",
   "metadata": {},
   "outputs": [],
   "source": [
    "# CREATING EMPTY LIST \n",
    "QUOTES = []\n",
    "AUTHERS = []\n",
    "TYPE_OF_QUOTES = []"
   ]
  },
  {
   "cell_type": "code",
   "execution_count": 7,
   "id": "fdd6a1bf",
   "metadata": {},
   "outputs": [],
   "source": [
    "#  SCRAPING QUOTES IN ONE GO\n",
    "quo = driver.find_elements (By.XPATH,'//div[@class=\"tags\"]')\n",
    "for i in quo :\n",
    "    tem = i.text\n",
    "    QUOTES.append (tem)\n",
    "    \n",
    "    \n",
    "\n",
    "#  SCRAPING AUTHERS IN ONE GO\n",
    "auth = driver.find_elements (By.XPATH,'//div[@class=\"author\"]')\n",
    "for i in auth:\n",
    "    tem = i.text\n",
    "    AUTHERS.append (tem)\n",
    "\n",
    "    \n",
    "\n",
    "#  SCRAPING TYPES OF QUOTES IN ONE GO\n",
    "typ = driver.find_elements (By.XPATH,'//div[@class=\"tags\"]')\n",
    "for i in typ:\n",
    "    tem = i.text.split(\",\")[1]\n",
    "    TYPE_OF_QUOTES.append (tem)"
   ]
  },
  {
   "cell_type": "code",
   "execution_count": 8,
   "id": "7e579772",
   "metadata": {},
   "outputs": [
    {
     "name": "stdout",
     "output_type": "stream",
     "text": [
      "100 100 100\n"
     ]
    }
   ],
   "source": [
    "#  PRINTING LENGHT OF ELEMENTS\n",
    "print (len(QUOTES),len(AUTHERS),len(TYPE_OF_QUOTES))"
   ]
  },
  {
   "cell_type": "code",
   "execution_count": 10,
   "id": "1915de04",
   "metadata": {},
   "outputs": [
    {
     "data": {
      "text/html": [
       "<div>\n",
       "<style scoped>\n",
       "    .dataframe tbody tr th:only-of-type {\n",
       "        vertical-align: middle;\n",
       "    }\n",
       "\n",
       "    .dataframe tbody tr th {\n",
       "        vertical-align: top;\n",
       "    }\n",
       "\n",
       "    .dataframe thead th {\n",
       "        text-align: right;\n",
       "    }\n",
       "</style>\n",
       "<table border=\"1\" class=\"dataframe\">\n",
       "  <thead>\n",
       "    <tr style=\"text-align: right;\">\n",
       "      <th></th>\n",
       "      <th>QUOTES</th>\n",
       "      <th>AUTHERS</th>\n",
       "      <th>TYPE_OF_QUOTES</th>\n",
       "    </tr>\n",
       "  </thead>\n",
       "  <tbody>\n",
       "    <tr>\n",
       "      <th>0</th>\n",
       "      <td>Essence, Deep Thought, Transcendentalism</td>\n",
       "      <td>Michael Porter</td>\n",
       "      <td>Deep Thought</td>\n",
       "    </tr>\n",
       "    <tr>\n",
       "      <th>1</th>\n",
       "      <td>Inspiration, Past, Trying</td>\n",
       "      <td>Golda Meir</td>\n",
       "      <td>Past</td>\n",
       "    </tr>\n",
       "    <tr>\n",
       "      <th>2</th>\n",
       "      <td>Country, Peace, War</td>\n",
       "      <td>Theodore Roosevelt</td>\n",
       "      <td>Peace</td>\n",
       "    </tr>\n",
       "    <tr>\n",
       "      <th>3</th>\n",
       "      <td>Inspirational, Motivational, Death</td>\n",
       "      <td>Nelson Mandela</td>\n",
       "      <td>Motivational</td>\n",
       "    </tr>\n",
       "    <tr>\n",
       "      <th>4</th>\n",
       "      <td>4th Of July, Food, Patriotic</td>\n",
       "      <td>Erma Bombeck</td>\n",
       "      <td>Food</td>\n",
       "    </tr>\n",
       "    <tr>\n",
       "      <th>...</th>\n",
       "      <td>...</td>\n",
       "      <td>...</td>\n",
       "      <td>...</td>\n",
       "    </tr>\n",
       "    <tr>\n",
       "      <th>95</th>\n",
       "      <td>Music, Sports, Hunting</td>\n",
       "      <td>Hunter S. Thompson</td>\n",
       "      <td>Sports</td>\n",
       "    </tr>\n",
       "    <tr>\n",
       "      <th>96</th>\n",
       "      <td>Trust, Encouraging, Uplifting</td>\n",
       "      <td>Corrie Ten Boom</td>\n",
       "      <td>Encouraging</td>\n",
       "    </tr>\n",
       "    <tr>\n",
       "      <th>97</th>\n",
       "      <td>Inspirational, Funny, Change</td>\n",
       "      <td>Dalai Lama</td>\n",
       "      <td>Funny</td>\n",
       "    </tr>\n",
       "    <tr>\n",
       "      <th>98</th>\n",
       "      <td>Success, God, Mother</td>\n",
       "      <td>Mother Teresa</td>\n",
       "      <td>God</td>\n",
       "    </tr>\n",
       "    <tr>\n",
       "      <th>99</th>\n",
       "      <td>Inspirational, Motivational, Change</td>\n",
       "      <td>Norman Vincent Peale</td>\n",
       "      <td>Motivational</td>\n",
       "    </tr>\n",
       "  </tbody>\n",
       "</table>\n",
       "<p>100 rows × 3 columns</p>\n",
       "</div>"
      ],
      "text/plain": [
       "                                      QUOTES               AUTHERS  \\\n",
       "0   Essence, Deep Thought, Transcendentalism        Michael Porter   \n",
       "1                  Inspiration, Past, Trying            Golda Meir   \n",
       "2                        Country, Peace, War    Theodore Roosevelt   \n",
       "3         Inspirational, Motivational, Death        Nelson Mandela   \n",
       "4               4th Of July, Food, Patriotic          Erma Bombeck   \n",
       "..                                       ...                   ...   \n",
       "95                    Music, Sports, Hunting    Hunter S. Thompson   \n",
       "96             Trust, Encouraging, Uplifting       Corrie Ten Boom   \n",
       "97              Inspirational, Funny, Change            Dalai Lama   \n",
       "98                      Success, God, Mother         Mother Teresa   \n",
       "99       Inspirational, Motivational, Change  Norman Vincent Peale   \n",
       "\n",
       "   TYPE_OF_QUOTES  \n",
       "0    Deep Thought  \n",
       "1            Past  \n",
       "2           Peace  \n",
       "3    Motivational  \n",
       "4            Food  \n",
       "..            ...  \n",
       "95         Sports  \n",
       "96    Encouraging  \n",
       "97          Funny  \n",
       "98            God  \n",
       "99   Motivational  \n",
       "\n",
       "[100 rows x 3 columns]"
      ]
     },
     "execution_count": 10,
     "metadata": {},
     "output_type": "execute_result"
    }
   ],
   "source": [
    "#  MAKING DATA FRAME AND DISPLAYING IN DATA FRAME FORMAT\n",
    "df = pd.DataFrame ({'QUOTES':QUOTES,'AUTHERS':AUTHERS,'TYPE_OF_QUOTES':TYPE_OF_QUOTES})\n",
    "df"
   ]
  },
  {
   "cell_type": "code",
   "execution_count": null,
   "id": "c8567317",
   "metadata": {},
   "outputs": [],
   "source": []
  }
 ],
 "metadata": {
  "kernelspec": {
   "display_name": "Python 3 (ipykernel)",
   "language": "python",
   "name": "python3"
  },
  "language_info": {
   "codemirror_mode": {
    "name": "ipython",
    "version": 3
   },
   "file_extension": ".py",
   "mimetype": "text/x-python",
   "name": "python",
   "nbconvert_exporter": "python",
   "pygments_lexer": "ipython3",
   "version": "3.9.13"
  }
 },
 "nbformat": 4,
 "nbformat_minor": 5
}
