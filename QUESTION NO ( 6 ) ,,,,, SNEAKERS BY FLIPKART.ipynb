{
 "cells": [
  {
   "cell_type": "code",
   "execution_count": 1,
   "id": "a3deee27",
   "metadata": {},
   "outputs": [],
   "source": [
    "#Q6: Scrape data for first 100 sneakers you find when you visit flipkart.com and search for “sneakers” in the \n",
    "#    search field.\n",
    "#    You have to scrape 3 attributes of each sneaker:\n",
    "#        1. Brand\n",
    "#        2. ProductDescription\n",
    "#        3. Price"
   ]
  },
  {
   "cell_type": "code",
   "execution_count": 1,
   "id": "448081c0",
   "metadata": {},
   "outputs": [],
   "source": [
    "#  IMPORTING REQUIRED LABRARIES\n",
    "\n",
    "import selenium \n",
    "import pandas as pd \n",
    "from selenium import webdriver\n",
    "import warnings\n",
    "warnings.filterwarnings ('ignore')\n",
    "from selenium.common.exceptions import StaleElementReferenceException, NoSuchElementException\n",
    "from selenium.webdriver.common.by import By\n",
    "import time"
   ]
  },
  {
   "cell_type": "code",
   "execution_count": 2,
   "id": "9832a9c1",
   "metadata": {},
   "outputs": [],
   "source": [
    "#  CONNECTING TO THE DRIVER\n",
    "driver=webdriver.Chrome(r\"C:\\Users\\ASUS\\Downloads\\chromedriver.exe\")"
   ]
  },
  {
   "cell_type": "code",
   "execution_count": 3,
   "id": "cd6396e6",
   "metadata": {},
   "outputs": [],
   "source": [
    "#  OPENING THE FLIPKART PAGE ON AUTOMATED CHROME BROWSER\n",
    "driver.get(\"https://www.flipkart.com/\")\n"
   ]
  },
  {
   "cell_type": "code",
   "execution_count": 4,
   "id": "2ce635c2",
   "metadata": {},
   "outputs": [],
   "source": [
    "#   ENTERING sneakers  AS REQUIRED \n",
    "sneakers = driver.find_element (By.CLASS_NAME,\"_3704LK\")\n",
    "sneakers.send_keys (' sneakers ')"
   ]
  },
  {
   "cell_type": "code",
   "execution_count": 5,
   "id": "e0c7e3f1",
   "metadata": {},
   "outputs": [],
   "source": [
    "#  CLICKING SEARCH BUTTON \n",
    "search = driver.find_element (By.CLASS_NAME,\"L0Z3Pu\")\n",
    "search.click()"
   ]
  },
  {
   "cell_type": "code",
   "execution_count": 6,
   "id": "6110bbda",
   "metadata": {},
   "outputs": [],
   "source": [
    "# CREATING EMPTY LIST\n",
    "BRANDS = []\n",
    "PRODUCT_DESCRIPTION = []\n",
    "PRICE = []"
   ]
  },
  {
   "cell_type": "code",
   "execution_count": 7,
   "id": "e12cb29a",
   "metadata": {},
   "outputs": [],
   "source": [
    "#  SCRAPING ALL BRANDS IN ONE GO\n",
    "BRANDS = []\n",
    "start = 0\n",
    "end   = 3\n",
    "for page in range (start,end):\n",
    "    brnd = driver.find_elements (By.XPATH,'//div[@class=\"_2WkVRV\"]')\n",
    "    for i in brnd[0:100]:\n",
    "        BRANDS.append (i.text)\n",
    "    next_button = driver.find_elements (By.XPATH,'/html/body/div[1]/div/div[3]/div[1]/div[2]/div[12]/div/div/nav/a[11]/span')\n",
    "    time.sleep(3)\n",
    "        "
   ]
  },
  {
   "cell_type": "code",
   "execution_count": 11,
   "id": "61ea8149",
   "metadata": {},
   "outputs": [],
   "source": [
    "#  SCRAPING ALL PRODUCT_DESCRIPTION IN ONE GO\n",
    "PRODUCT_DESCRIPTION = []\n",
    "start = 0\n",
    "end   = 3\n",
    "\n",
    "for page in range (start,end):\n",
    "    prd = driver.find_elements (By.XPATH,'//div[@class=\"_2B099V\"]')\n",
    "    for i in prd[0:100]:\n",
    "        PRODUCT_DESCRIPTION.append (i.text.split(\" \")[1])\n",
    "    next_button = driver.find_elements (By.XPATH,'/html/body/div[1]/div/div[3]/div[1]/div[2]/div[12]/div/div/nav/a[11]/span')\n",
    "    time.sleep (3)\n",
    "        "
   ]
  },
  {
   "cell_type": "code",
   "execution_count": 9,
   "id": "1ab19b41",
   "metadata": {},
   "outputs": [],
   "source": [
    "#  SCRAPING ALL PRICES IN ONE GO\n",
    "PRICES = []\n",
    "start = 0\n",
    "end   = 3\n",
    "for page in range (start,end):\n",
    "    prc = driver.find_elements (By.XPATH,'//div[@class=\"_30jeq3\"]')\n",
    "    for i in prc[0:100]:\n",
    "        PRICES.append (i.text)\n",
    "    next_button = driver.find_elements (By.XPATH,'/html/body/div[1]/div/div[3]/div[1]/div[2]/div[12]/div/div/nav/a[11]/span')\n",
    "    time.sleep (3)\n",
    "        "
   ]
  },
  {
   "cell_type": "code",
   "execution_count": 12,
   "id": "ee615b91",
   "metadata": {},
   "outputs": [
    {
     "name": "stdout",
     "output_type": "stream",
     "text": [
      "120 120 120\n"
     ]
    }
   ],
   "source": [
    "#  PRINTING LENGHT OF ELEMENTS\n",
    "print (len(BRANDS),len(PRODUCT_DESCRIPTION),len(PRICES))"
   ]
  },
  {
   "cell_type": "code",
   "execution_count": 14,
   "id": "8f5def7e",
   "metadata": {},
   "outputs": [
    {
     "data": {
      "text/html": [
       "<div>\n",
       "<style scoped>\n",
       "    .dataframe tbody tr th:only-of-type {\n",
       "        vertical-align: middle;\n",
       "    }\n",
       "\n",
       "    .dataframe tbody tr th {\n",
       "        vertical-align: top;\n",
       "    }\n",
       "\n",
       "    .dataframe thead th {\n",
       "        text-align: right;\n",
       "    }\n",
       "</style>\n",
       "<table border=\"1\" class=\"dataframe\">\n",
       "  <thead>\n",
       "    <tr style=\"text-align: right;\">\n",
       "      <th></th>\n",
       "      <th>BRANDS</th>\n",
       "      <th>PRODUCT_DESCRIPTION</th>\n",
       "      <th>PRICES</th>\n",
       "    </tr>\n",
       "  </thead>\n",
       "  <tbody>\n",
       "    <tr>\n",
       "      <th>0</th>\n",
       "      <td>New Balance</td>\n",
       "      <td>Balance\\n500</td>\n",
       "      <td>₹3,583</td>\n",
       "    </tr>\n",
       "    <tr>\n",
       "      <th>1</th>\n",
       "      <td>New Balance</td>\n",
       "      <td>Balance\\n327</td>\n",
       "      <td>₹3,504</td>\n",
       "    </tr>\n",
       "    <tr>\n",
       "      <th>2</th>\n",
       "      <td>SFR</td>\n",
       "      <td>Trenddy</td>\n",
       "      <td>₹299</td>\n",
       "    </tr>\n",
       "    <tr>\n",
       "      <th>3</th>\n",
       "      <td>Kraasa</td>\n",
       "      <td>For</td>\n",
       "      <td>₹299</td>\n",
       "    </tr>\n",
       "    <tr>\n",
       "      <th>4</th>\n",
       "      <td>aadi</td>\n",
       "      <td>Leather</td>\n",
       "      <td>₹399</td>\n",
       "    </tr>\n",
       "    <tr>\n",
       "      <th>...</th>\n",
       "      <td>...</td>\n",
       "      <td>...</td>\n",
       "      <td>...</td>\n",
       "    </tr>\n",
       "    <tr>\n",
       "      <th>95</th>\n",
       "      <td>BIRDE</td>\n",
       "      <td>Casual</td>\n",
       "      <td>₹299</td>\n",
       "    </tr>\n",
       "    <tr>\n",
       "      <th>96</th>\n",
       "      <td>New Balance</td>\n",
       "      <td>Balance\\n500</td>\n",
       "      <td>₹3,540</td>\n",
       "    </tr>\n",
       "    <tr>\n",
       "      <th>97</th>\n",
       "      <td>New Balance</td>\n",
       "      <td>Balance\\n373</td>\n",
       "      <td>₹4,903</td>\n",
       "    </tr>\n",
       "    <tr>\n",
       "      <th>98</th>\n",
       "      <td>aadi</td>\n",
       "      <td>off\\nFree</td>\n",
       "      <td>₹349</td>\n",
       "    </tr>\n",
       "    <tr>\n",
       "      <th>99</th>\n",
       "      <td>SFR</td>\n",
       "      <td>For</td>\n",
       "      <td>₹279</td>\n",
       "    </tr>\n",
       "  </tbody>\n",
       "</table>\n",
       "<p>100 rows × 3 columns</p>\n",
       "</div>"
      ],
      "text/plain": [
       "         BRANDS PRODUCT_DESCRIPTION  PRICES\n",
       "0   New Balance        Balance\\n500  ₹3,583\n",
       "1   New Balance        Balance\\n327  ₹3,504\n",
       "2           SFR             Trenddy    ₹299\n",
       "3        Kraasa                 For    ₹299\n",
       "4          aadi             Leather    ₹399\n",
       "..          ...                 ...     ...\n",
       "95        BIRDE              Casual    ₹299\n",
       "96  New Balance        Balance\\n500  ₹3,540\n",
       "97  New Balance        Balance\\n373  ₹4,903\n",
       "98         aadi           off\\nFree    ₹349\n",
       "99          SFR                 For    ₹279\n",
       "\n",
       "[100 rows x 3 columns]"
      ]
     },
     "execution_count": 14,
     "metadata": {},
     "output_type": "execute_result"
    }
   ],
   "source": [
    "# MAKING DATA FRAME AND DISPLAY IN DATA FRAME FORMAT\n",
    "df = pd.DataFrame ({'BRANDS':BRANDS,'PRODUCT_DESCRIPTION':PRODUCT_DESCRIPTION,'PRICES':PRICES})\n",
    "df.head(100)"
   ]
  },
  {
   "cell_type": "code",
   "execution_count": null,
   "id": "8f6e30bd",
   "metadata": {},
   "outputs": [],
   "source": []
  },
  {
   "cell_type": "code",
   "execution_count": null,
   "id": "db757288",
   "metadata": {},
   "outputs": [],
   "source": []
  },
  {
   "cell_type": "code",
   "execution_count": null,
   "id": "dfd10028",
   "metadata": {},
   "outputs": [],
   "source": []
  }
 ],
 "metadata": {
  "kernelspec": {
   "display_name": "Python 3 (ipykernel)",
   "language": "python",
   "name": "python3"
  },
  "language_info": {
   "codemirror_mode": {
    "name": "ipython",
    "version": 3
   },
   "file_extension": ".py",
   "mimetype": "text/x-python",
   "name": "python",
   "nbconvert_exporter": "python",
   "pygments_lexer": "ipython3",
   "version": "3.9.13"
  }
 },
 "nbformat": 4,
 "nbformat_minor": 5
}
