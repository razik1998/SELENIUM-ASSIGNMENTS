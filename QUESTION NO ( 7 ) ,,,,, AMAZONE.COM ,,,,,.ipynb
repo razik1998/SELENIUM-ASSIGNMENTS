{
 "cells": [
  {
   "cell_type": "code",
   "execution_count": 1,
   "id": "9e2230ff",
   "metadata": {},
   "outputs": [],
   "source": [
    "#    Q7: Go to webpage https://www.amazon.in/ Enter “Laptop” in the search field and then click the search icon. Then \n",
    "#        set CPU Type filter to “Intel Core i7” as shown in the below image:"
   ]
  },
  {
   "cell_type": "code",
   "execution_count": 1,
   "id": "68886cdd",
   "metadata": {},
   "outputs": [],
   "source": [
    "#  IMPORTING REQUIRED LABRARIES\n",
    "\n",
    "import selenium \n",
    "import pandas as pd \n",
    "from selenium import webdriver\n",
    "import warnings\n",
    "warnings.filterwarnings ('ignore')\n",
    "from selenium.common.exceptions import StaleElementReferenceException, NoSuchElementException\n",
    "from selenium.webdriver.common.by import By\n",
    "import time"
   ]
  },
  {
   "cell_type": "code",
   "execution_count": 2,
   "id": "39600f4f",
   "metadata": {},
   "outputs": [],
   "source": [
    "#  CONNECTING TO THE DRIVER\n",
    "driver=webdriver.Chrome(r\"C:\\Users\\ASUS\\Downloads\\chromedriver.exe\")"
   ]
  },
  {
   "cell_type": "code",
   "execution_count": 3,
   "id": "968352c6",
   "metadata": {},
   "outputs": [],
   "source": [
    "#  OPENING THE NAUKRI PAGE ON AUTOMATED CHROME BROWSER\n",
    "driver.get(\"https://www.amazon.in/\")"
   ]
  },
  {
   "cell_type": "code",
   "execution_count": 4,
   "id": "5efc58fb",
   "metadata": {},
   "outputs": [],
   "source": [
    "#   ENTERING LAPTOPS AS REQUIRED \n",
    "laptop = driver.find_element (By.XPATH,\"/html/body/div[1]/header/div/div[1]/div[2]/div/form/div[2]/div[1]/input \")\n",
    "laptop.send_keys ('Laptop')"
   ]
  },
  {
   "cell_type": "code",
   "execution_count": 5,
   "id": "2d3aaa1b",
   "metadata": {},
   "outputs": [],
   "source": [
    "#  CLICKING SEARCH BUTTON \n",
    "search = driver.find_element (By.XPATH,\" /html/body/div[1]/header/div/div[1]/div[2]/div/form/div[3]/div/span/input\")\n",
    "search.click()"
   ]
  },
  {
   "cell_type": "code",
   "execution_count": 6,
   "id": "dfe8d12d",
   "metadata": {},
   "outputs": [],
   "source": [
    "# code to filter i7 CPu-\n",
    "\n",
    "cpu_filter1=driver.find_element(By.XPATH,\"/html/body/div[1]/div[2]/div[1]/div[2]/div/div[3]/span/div[1]/div/div/div[6]/ul[6]/li[10]/span/a/span\")\n",
    "\n",
    "cpu_filter1.click()\n",
    "\n",
    "\n"
   ]
  },
  {
   "cell_type": "code",
   "execution_count": 7,
   "id": "b78ed829",
   "metadata": {},
   "outputs": [],
   "source": [
    "# CREATING EMPTY LIST \n",
    "TITLES  = []\n",
    "RATINGS = []\n",
    "PRICES  = []"
   ]
  },
  {
   "cell_type": "code",
   "execution_count": 8,
   "id": "c1382012",
   "metadata": {},
   "outputs": [],
   "source": [
    "#  SCRAPING ALL TITLES IN ONE GO\n",
    "tit = driver.find_elements (By.XPATH,'//span[@class=\"a-size-medium a-color-base a-text-normal\"]')\n",
    "for i in tit [0:10]:\n",
    "    tem = i.text\n",
    "    TITLES.append (tem)\n",
    "    \n",
    "    \n",
    "    \n",
    "#  SCRAPING ALL RATINGS IN ONE GO\n",
    "rtg = driver.find_elements (By.XPATH,'//span[@class=\"a-size-base\"]')\n",
    "for i in rtg [0:10]:\n",
    "    tem = i.text\n",
    "    RATINGS.append (tem)\n",
    "    \n",
    "    \n",
    "    \n",
    "prc = driver.find_elements (By.XPATH,'//span[@class=\"a-price-whole\"]')\n",
    "for i in prc [0:10]:\n",
    "    tem = i.text\n",
    "    PRICES.append (tem)"
   ]
  },
  {
   "cell_type": "code",
   "execution_count": 9,
   "id": "5b869619",
   "metadata": {},
   "outputs": [
    {
     "name": "stdout",
     "output_type": "stream",
     "text": [
      "10 10 10\n"
     ]
    }
   ],
   "source": [
    "# PRINTING LENGHTS OF ELEMENTS\n",
    "print (len(TITLES),len(RATINGS),len(PRICES))"
   ]
  },
  {
   "cell_type": "code",
   "execution_count": 10,
   "id": "eb161f86",
   "metadata": {},
   "outputs": [
    {
     "data": {
      "text/html": [
       "<div>\n",
       "<style scoped>\n",
       "    .dataframe tbody tr th:only-of-type {\n",
       "        vertical-align: middle;\n",
       "    }\n",
       "\n",
       "    .dataframe tbody tr th {\n",
       "        vertical-align: top;\n",
       "    }\n",
       "\n",
       "    .dataframe thead th {\n",
       "        text-align: right;\n",
       "    }\n",
       "</style>\n",
       "<table border=\"1\" class=\"dataframe\">\n",
       "  <thead>\n",
       "    <tr style=\"text-align: right;\">\n",
       "      <th></th>\n",
       "      <th>TITLES</th>\n",
       "      <th>RATINGS</th>\n",
       "      <th>PRICES</th>\n",
       "    </tr>\n",
       "  </thead>\n",
       "  <tbody>\n",
       "    <tr>\n",
       "      <th>0</th>\n",
       "      <td>Samsung Galaxy Book2 (NP750) Intel 12th Gen co...</td>\n",
       "      <td>4.1</td>\n",
       "      <td>76,990</td>\n",
       "    </tr>\n",
       "    <tr>\n",
       "      <th>1</th>\n",
       "      <td>(Renewed) HP ELITEBOOK 840 G5 (Core i7 8th GEN...</td>\n",
       "      <td>4.2</td>\n",
       "      <td>31,490</td>\n",
       "    </tr>\n",
       "    <tr>\n",
       "      <th>2</th>\n",
       "      <td>Lenovo Yoga Slim 7Pro Intel Evo i7 1260P 14\"(3...</td>\n",
       "      <td>4.4</td>\n",
       "      <td>1,03,057</td>\n",
       "    </tr>\n",
       "    <tr>\n",
       "      <th>3</th>\n",
       "      <td>ASUS TUF Gaming F15 (2022), 15.6\"(39.62 cms) F...</td>\n",
       "      <td>3.0</td>\n",
       "      <td>86,391</td>\n",
       "    </tr>\n",
       "    <tr>\n",
       "      <th>4</th>\n",
       "      <td>(Renewed) HP 840g3 Elitebook 14 Inch Screen La...</td>\n",
       "      <td>4.1</td>\n",
       "      <td>94,990</td>\n",
       "    </tr>\n",
       "    <tr>\n",
       "      <th>5</th>\n",
       "      <td>ASUS TUF Gaming F15 (2022), 15.6\" (39.62 cms) ...</td>\n",
       "      <td>4.1</td>\n",
       "      <td>31,592</td>\n",
       "    </tr>\n",
       "    <tr>\n",
       "      <th>6</th>\n",
       "      <td>LG Gram16 Intel EVO-[12th Gen Core i7/Win11/16...</td>\n",
       "      <td>4.3</td>\n",
       "      <td>94,990</td>\n",
       "    </tr>\n",
       "    <tr>\n",
       "      <th>7</th>\n",
       "      <td>Lenovo ThinkPad E14 Intel Core i7 12th Gen 14\"...</td>\n",
       "      <td>4.2</td>\n",
       "      <td>82,990</td>\n",
       "    </tr>\n",
       "    <tr>\n",
       "      <th>8</th>\n",
       "      <td>Fujitsu UH-X 12th Gen Intel Evo Core i7 13.3 i...</td>\n",
       "      <td>4.1</td>\n",
       "      <td>93,990</td>\n",
       "    </tr>\n",
       "    <tr>\n",
       "      <th>9</th>\n",
       "      <td>HP OMEN-12th Gen Intel Core i7 16.1-inch(40.9 ...</td>\n",
       "      <td>3.4</td>\n",
       "      <td>99,990</td>\n",
       "    </tr>\n",
       "  </tbody>\n",
       "</table>\n",
       "</div>"
      ],
      "text/plain": [
       "                                              TITLES RATINGS    PRICES\n",
       "0  Samsung Galaxy Book2 (NP750) Intel 12th Gen co...     4.1    76,990\n",
       "1  (Renewed) HP ELITEBOOK 840 G5 (Core i7 8th GEN...     4.2    31,490\n",
       "2  Lenovo Yoga Slim 7Pro Intel Evo i7 1260P 14\"(3...     4.4  1,03,057\n",
       "3  ASUS TUF Gaming F15 (2022), 15.6\"(39.62 cms) F...     3.0    86,391\n",
       "4  (Renewed) HP 840g3 Elitebook 14 Inch Screen La...     4.1    94,990\n",
       "5  ASUS TUF Gaming F15 (2022), 15.6\" (39.62 cms) ...     4.1    31,592\n",
       "6  LG Gram16 Intel EVO-[12th Gen Core i7/Win11/16...     4.3    94,990\n",
       "7  Lenovo ThinkPad E14 Intel Core i7 12th Gen 14\"...     4.2    82,990\n",
       "8  Fujitsu UH-X 12th Gen Intel Evo Core i7 13.3 i...     4.1    93,990\n",
       "9  HP OMEN-12th Gen Intel Core i7 16.1-inch(40.9 ...     3.4    99,990"
      ]
     },
     "execution_count": 10,
     "metadata": {},
     "output_type": "execute_result"
    }
   ],
   "source": [
    "# MAKING DATA FRAME AND DISPLAYING IN DATA FRAME FORMAT\n",
    "df = pd.DataFrame ({'TITLES':TITLES,'RATINGS':RATINGS,'PRICES':PRICES})\n",
    "df"
   ]
  },
  {
   "cell_type": "code",
   "execution_count": null,
   "id": "27bdd61f",
   "metadata": {},
   "outputs": [],
   "source": []
  }
 ],
 "metadata": {
  "kernelspec": {
   "display_name": "Python 3 (ipykernel)",
   "language": "python",
   "name": "python3"
  },
  "language_info": {
   "codemirror_mode": {
    "name": "ipython",
    "version": 3
   },
   "file_extension": ".py",
   "mimetype": "text/x-python",
   "name": "python",
   "nbconvert_exporter": "python",
   "pygments_lexer": "ipython3",
   "version": "3.9.13"
  }
 },
 "nbformat": 4,
 "nbformat_minor": 5
}
