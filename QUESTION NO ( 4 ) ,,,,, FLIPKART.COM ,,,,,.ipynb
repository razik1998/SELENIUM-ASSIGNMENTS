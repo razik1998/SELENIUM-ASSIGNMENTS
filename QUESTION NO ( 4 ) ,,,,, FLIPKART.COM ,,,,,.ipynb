{
 "cells": [
  {
   "cell_type": "code",
   "execution_count": 1,
   "id": "4b0130b2",
   "metadata": {},
   "outputs": [],
   "source": [
    "#   Q4: Scrape data of first 100 sunglasses listings on flipkart.com. You have to scrape four attributes:\n",
    "#       1. Brand\n",
    "#       2. ProductDescription\n",
    "#       3. Price"
   ]
  },
  {
   "cell_type": "code",
   "execution_count": 12,
   "id": "dfb7f154",
   "metadata": {},
   "outputs": [],
   "source": [
    "#  IMPORTING REQUIRED LABRARIES\n",
    "\n",
    "import selenium \n",
    "import pandas as pd \n",
    "from selenium import webdriver\n",
    "import warnings\n",
    "warnings.filterwarnings ('ignore')\n",
    "from selenium.common.exceptions import StaleElementReferenceException, NoSuchElementException\n",
    "from selenium.webdriver.common.by import By\n",
    "import time"
   ]
  },
  {
   "cell_type": "code",
   "execution_count": 13,
   "id": "30771063",
   "metadata": {},
   "outputs": [],
   "source": [
    "#  CONNECTING TO THE DRIVER\n",
    "driver=webdriver.Chrome(r\"C:\\Users\\ASUS\\Downloads\\chromedriver.exe\")"
   ]
  },
  {
   "cell_type": "code",
   "execution_count": null,
   "id": "630b74fe",
   "metadata": {},
   "outputs": [],
   "source": [
    "#  OPENING THE FLIPKART PAGE ON AUTOMATED CHROME BROWSER\n",
    "driver.get(\"https://www.flipkart.com/\")"
   ]
  },
  {
   "cell_type": "code",
   "execution_count": 4,
   "id": "a93cfd08",
   "metadata": {},
   "outputs": [],
   "source": [
    "#   ENTERING SUNGLASSES  AS REQUIRED \n",
    "SUNGLASSES = driver.find_element (By.CLASS_NAME,\"_3704LK\")\n",
    "SUNGLASSES.send_keys (' SUNGLASSES ')"
   ]
  },
  {
   "cell_type": "code",
   "execution_count": 5,
   "id": "90fcc5be",
   "metadata": {},
   "outputs": [],
   "source": [
    "#  CLICKING SEARCH BUTTON \n",
    "search = driver.find_element (By.CLASS_NAME,\"L0Z3Pu\")\n",
    "search.click()"
   ]
  },
  {
   "cell_type": "code",
   "execution_count": 6,
   "id": "7b01165e",
   "metadata": {},
   "outputs": [],
   "source": [
    "#  CREATING EMPTY LIST\n",
    "\n",
    "BRAND = []\n",
    "PRODUCT_DESCRIPTION =[]\n",
    "PRICE = []\n",
    "DISCOUNT   = []"
   ]
  },
  {
   "cell_type": "code",
   "execution_count": 7,
   "id": "51d8f2a3",
   "metadata": {},
   "outputs": [],
   "source": [
    "#  SCRAPING ALL BRANDS IN SINGLE PAGE \n",
    "brands = driver.find_elements (By.XPATH,'//div[@class=\"_2WkVRV\"]')\n",
    "for i in brands[0:40]:\n",
    "    brnd = (i.text)\n",
    "    BRAND.append (brnd)\n",
    "    \n",
    "    \n",
    "    \n",
    "#   SCRAPING ALL PRODUCT_DESCRIPTION IN SINGLE PAGE\n",
    "pr_desc = driver.find_elements (By.XPATH,'//a[@class=\"IRpwTa\"]')\n",
    "for i in pr_desc:\n",
    "    description = (i.text)\n",
    "    PRODUCT_DESCRIPTION.append (description)\n",
    "    \n",
    "    \n",
    "    \n",
    "#  SCRAPING ALL PRICE IN SINGLE PAGE \n",
    "prices = driver.find_elements (By.XPATH,'//div[@class=\"_30jeq3\"]')\n",
    "for i in prices:\n",
    "    prc = (i.text)\n",
    "    PRICE.append (prc)\n",
    "    \n",
    "    \n",
    "    \n",
    "#  SCRAPING ALL DISCOUNTS IN SINGLE PAGE\n",
    "off = driver.find_elements (By.XPATH,'//div[@class=\"_3Ay6Sb\"]')\n",
    "for i in off:\n",
    "    dsc = (i.text)\n",
    "    DISCOUNT.append (dsc)"
   ]
  },
  {
   "cell_type": "code",
   "execution_count": 8,
   "id": "9b8aba7d",
   "metadata": {},
   "outputs": [
    {
     "name": "stdout",
     "output_type": "stream",
     "text": [
      "40 39 40 40\n"
     ]
    }
   ],
   "source": [
    "# PRINTING LENGHTS IN ONE GO\n",
    "print (len(BRAND),len(PRODUCT_DESCRIPTION),len(PRICE),len(DISCOUNT))"
   ]
  },
  {
   "cell_type": "code",
   "execution_count": 9,
   "id": "15306b3b",
   "metadata": {},
   "outputs": [],
   "source": [
    "#  SCRAPING ALL BRANDS IN ONE GO\n",
    "start = 0\n",
    "end   = 3\n",
    "for page in range (start,end):\n",
    "    br_nm = driver.find_elements (By.XPATH,'//div[@class=\"_2WkVRV\"]')\n",
    "    for i in br_nm[0:40]:\n",
    "        BRAND.append(i.text)\n",
    "    next_button = driver.find_element (By.XPATH,'//a[@class=\"_1LKTO3\"]')\n",
    "    next_button.click()\n",
    "    time.sleep(3)\n",
    "    next_button = driver.find_element (By.XPATH,'//a[@class=\"_1LKTO3\"]')\n",
    "    next_button.click()\n",
    "    time.sleep(3)"
   ]
  },
  {
   "cell_type": "code",
   "execution_count": null,
   "id": "dd670c01",
   "metadata": {},
   "outputs": [],
   "source": [
    "#  SCRAPING PRODUCT_DESCRIPTION IN ONE GO \n",
    "start = 0\n",
    "end   = 3\n",
    "for page in range (start,end):\n",
    "    pr_desc = driver.find_elements (By.XPATH,'//a[@class=\"IRpwTa\"]')\n",
    "    for i in pr_desc[0:40]:\n",
    "        PRODUCT_DESCRIPTION.append (i.text)\n",
    "    next_button = driver.find_elements (By.XPATH,'//a[@class=\"_1LKTO3')\n",
    "    next_button.click()\n",
    "    time.sleep(3)\n",
    "    next_button = driver.find_elements (By.XPATH,'//a[@class=\"_1LKTO3')\n",
    "    next_button.click()\n",
    "    time.sleep(3)"
   ]
  },
  {
   "cell_type": "code",
   "execution_count": null,
   "id": "4581a74d",
   "metadata": {},
   "outputs": [],
   "source": [
    "#  SCRAPING ALL PRICES IN ONE GO\n",
    "start = 0\n",
    "end   = 3\n",
    "for page in range (start,end):\n",
    "    prices = driver.find_elements (By.XPATH,'//div[@class=\"_30jeq3\"]')\n",
    "    for i in prices:\n",
    "        PRICE.append (i.text)\n",
    "    next_button = driver.find_elements (By.XPATH,'//a[@class=\"_1LKTO3')\n",
    "    next_button.click()\n",
    "    time.sleep(3)\n",
    "    next_button = driver.find_elements (By.XPATH,'//a[@class=\"_1LKTO3')\n",
    "    next_button.click()\n",
    "    time.sleep(3)\n",
    "        "
   ]
  },
  {
   "cell_type": "code",
   "execution_count": null,
   "id": "58e960c5",
   "metadata": {},
   "outputs": [],
   "source": [
    "#  SCRAPING ALL OFFERS DISCOUNT IN ONE GO \n",
    "start = 0 \n",
    "end   = 3\n",
    "for page in range (start,end):\n",
    "    off = driver.find_elements (By.XPATH,'//div[@class=\"_3Ay6Sb\"]')\n",
    "    for i in off:\n",
    "        DISCOUNT.append (i.text)\n",
    "    next_button = driver.find_elements (By.XPATH,'//a[@class=\"_1LKTO3')\n",
    "    next_button.click()\n",
    "    time.sleep(3)\n",
    "    next_button = driver.find_elements (By.XPATH,'//a[@class=\"_1LKTO3')\n",
    "    next_button.click()\n",
    "    time.sleep(3)\n",
    "        \n"
   ]
  },
  {
   "cell_type": "code",
   "execution_count": null,
   "id": "92068b77",
   "metadata": {},
   "outputs": [],
   "source": [
    "# PRINTING LENGHTS IN ONE GO\n",
    "print (len(BRAND),len(PRODUCT_DESCRIPTION),len(PRICE),len(DISCOUNT))"
   ]
  },
  {
   "cell_type": "code",
   "execution_count": null,
   "id": "1dcdfdd6",
   "metadata": {},
   "outputs": [],
   "source": [
    "#  MAKING DATA FRAME IN AND DISPLAYING IN DATA FRAME FORMAT\n",
    "df = pd.DataFrame ({'ALL_BRANDS':BRAND,'ALL_PRODUCTS_DESC':PRODUCT_DESCRIPTION,'ALL_PRICES':PRICE,'ALL_DISCOUNTS':DISCOUNT})\n",
    "df"
   ]
  },
  {
   "cell_type": "code",
   "execution_count": null,
   "id": "a7f51a60",
   "metadata": {},
   "outputs": [],
   "source": [
    "#  AGA"
   ]
  }
 ],
 "metadata": {
  "kernelspec": {
   "display_name": "Python 3 (ipykernel)",
   "language": "python",
   "name": "python3"
  },
  "language_info": {
   "codemirror_mode": {
    "name": "ipython",
    "version": 3
   },
   "file_extension": ".py",
   "mimetype": "text/x-python",
   "name": "python",
   "nbconvert_exporter": "python",
   "pygments_lexer": "ipython3",
   "version": "3.9.13"
  }
 },
 "nbformat": 4,
 "nbformat_minor": 5
}
