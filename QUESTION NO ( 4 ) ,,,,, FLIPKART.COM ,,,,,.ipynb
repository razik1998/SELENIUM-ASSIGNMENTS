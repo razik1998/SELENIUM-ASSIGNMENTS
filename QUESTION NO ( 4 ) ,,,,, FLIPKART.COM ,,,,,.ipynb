{
 "cells": [
  {
   "cell_type": "code",
   "execution_count": 1,
   "id": "4b0130b2",
   "metadata": {},
   "outputs": [],
   "source": [
    "#   Q4: Scrape data of first 100 sunglasses listings on flipkart.com. You have to scrape four attributes:\n",
    "#       1. Brand\n",
    "#       2. ProductDescription\n",
    "#       3. Price"
   ]
  },
  {
   "cell_type": "code",
   "execution_count": 1,
   "id": "dfb7f154",
   "metadata": {},
   "outputs": [],
   "source": [
    "#  IMPORTING REQUIRED LABRARIES\n",
    "\n",
    "import selenium \n",
    "import pandas as pd \n",
    "from selenium import webdriver\n",
    "import warnings\n",
    "warnings.filterwarnings ('ignore')\n",
    "from selenium.common.exceptions import StaleElementReferenceException, NoSuchElementException\n",
    "from selenium.webdriver.common.by import By\n",
    "import time"
   ]
  },
  {
   "cell_type": "code",
   "execution_count": 2,
   "id": "30771063",
   "metadata": {},
   "outputs": [],
   "source": [
    "#  CONNECTING TO THE DRIVER\n",
    "driver=webdriver.Chrome(r\"C:\\Users\\ASUS\\Downloads\\chromedriver.exe\")"
   ]
  },
  {
   "cell_type": "code",
   "execution_count": 3,
   "id": "630b74fe",
   "metadata": {},
   "outputs": [],
   "source": [
    "#  OPENING THE FLIPKART PAGE ON AUTOMATED CHROME BROWSER\n",
    "driver.get(\"https://www.flipkart.com/\")"
   ]
  },
  {
   "cell_type": "code",
   "execution_count": 4,
   "id": "a93cfd08",
   "metadata": {},
   "outputs": [],
   "source": [
    "#   ENTERING SUNGLASSES  AS REQUIRED \n",
    "SUNGLASSES = driver.find_element (By.CLASS_NAME,\"_3704LK\")\n",
    "SUNGLASSES.send_keys (' SUNGLASSES ')"
   ]
  },
  {
   "cell_type": "code",
   "execution_count": 5,
   "id": "90fcc5be",
   "metadata": {},
   "outputs": [],
   "source": [
    "#  CLICKING SEARCH BUTTON \n",
    "search = driver.find_element (By.CLASS_NAME,\"L0Z3Pu\")\n",
    "search.click()"
   ]
  },
  {
   "cell_type": "code",
   "execution_count": 6,
   "id": "7b01165e",
   "metadata": {},
   "outputs": [],
   "source": [
    "#  CREATING EMPTY LIST\n",
    "\n",
    "BRAND = []\n",
    "PRODUCT_DESCRIPTION =[]\n",
    "PRICE = []\n",
    "DISCOUNT   = []"
   ]
  },
  {
   "cell_type": "code",
   "execution_count": 7,
   "id": "5cc1e171",
   "metadata": {},
   "outputs": [],
   "source": [
    "# SCRAPING ALL BRANDS IN ONE GO\n",
    "BRAND = []\n",
    "start = 0\n",
    "end   = 3\n",
    "for page in range (start,end):\n",
    "    brnd = driver.find_elements (By.XPATH,'//div[@class=\"_2WkVRV\"]')\n",
    "    for i in brnd[0:100]:\n",
    "         BRAND.append (i.text)\n",
    "    next_button = driver.find_elements (By.XPATH,'/html/body/div[1]/div/div[3]/div[1]/div[2]/div[12]/div/div/nav/a[11]')\n",
    "    time.sleep(3)\n",
    "    "
   ]
  },
  {
   "cell_type": "code",
   "execution_count": 8,
   "id": "f40af047",
   "metadata": {},
   "outputs": [],
   "source": [
    "# SCRAPING ALL PRODUCT_DESCRIPTION IN ONE GO\n",
    "PRODUCT_DESCRIPTION = []\n",
    "start = 0\n",
    "end   = 3\n",
    "for page in range (start,end):\n",
    "    prd = driver.find_elements (By.XPATH,'//div[@class=\"_2B099V\"]')\n",
    "    for i in prd [0:100]:\n",
    "        PRODUCT_DESCRIPTION.append (i.text)\n",
    "    next_button = driver.find_elements (By.XPATH,'/html/body/div[1]/div/div[3]/div[1]/div[2]/div[12]/div/div/nav/a[11]')\n",
    "    time.sleep(3)\n",
    "        "
   ]
  },
  {
   "cell_type": "code",
   "execution_count": 9,
   "id": "3172d8e8",
   "metadata": {},
   "outputs": [],
   "source": [
    "#  SCRAPING ALL PRICES IN ONE GO\n",
    "PRICE = []\n",
    "start = 0\n",
    "end   = 3\n",
    "for page in range (start,end):\n",
    "    prc = driver.find_elements (By.XPATH,'//div[@class=\"_30jeq3\"]')\n",
    "    for i in prc [0:100]:\n",
    "        PRICE.append (i.text)\n",
    "    next_button = driver.find_elements (By.XPATH,'/html/body/div[1]/div/div[3]/div[1]/div[2]/div[12]/div/div/nav/a[11]')\n",
    "    time.sleep(3)"
   ]
  },
  {
   "cell_type": "code",
   "execution_count": 10,
   "id": "37890da0",
   "metadata": {},
   "outputs": [],
   "source": [
    "#  SCRAPING ALL DISCOUNTS IN ONE GO\n",
    "DISCOUNT = []\n",
    "start = 0\n",
    "end   = 3\n",
    "for page in range (start,end):\n",
    "    diss = driver.find_elements (By.XPATH,'//div[@class=\"_3Ay6Sb\"]')\n",
    "    for i in diss [0:100]:\n",
    "        DISCOUNT.append (i.text)\n",
    "    next_button = driver.find_elements (By.XPATH,'/html/body/div[1]/div/div[3]/div[1]/div[2]/div[12]/div/div/nav/a[11]')\n",
    "    time.sleep(3)"
   ]
  },
  {
   "cell_type": "code",
   "execution_count": 11,
   "id": "26a110c1",
   "metadata": {},
   "outputs": [
    {
     "name": "stdout",
     "output_type": "stream",
     "text": [
      "120 120 120 120\n"
     ]
    }
   ],
   "source": [
    "# PRINTING LENGHTS OF ELEMENTS \n",
    "print (len(BRAND),len(PRODUCT_DESCRIPTION),len(PRICE),len(DISCOUNT))"
   ]
  },
  {
   "cell_type": "code",
   "execution_count": 12,
   "id": "5aac9173",
   "metadata": {},
   "outputs": [
    {
     "data": {
      "text/html": [
       "<div>\n",
       "<style scoped>\n",
       "    .dataframe tbody tr th:only-of-type {\n",
       "        vertical-align: middle;\n",
       "    }\n",
       "\n",
       "    .dataframe tbody tr th {\n",
       "        vertical-align: top;\n",
       "    }\n",
       "\n",
       "    .dataframe thead th {\n",
       "        text-align: right;\n",
       "    }\n",
       "</style>\n",
       "<table border=\"1\" class=\"dataframe\">\n",
       "  <thead>\n",
       "    <tr style=\"text-align: right;\">\n",
       "      <th></th>\n",
       "      <th>BRAND</th>\n",
       "      <th>PRODUCT_DESCRIPTION</th>\n",
       "      <th>PRICE</th>\n",
       "      <th>DISCOUNT</th>\n",
       "    </tr>\n",
       "  </thead>\n",
       "  <tbody>\n",
       "    <tr>\n",
       "      <th>0</th>\n",
       "      <td>VINCENT CHASE</td>\n",
       "      <td>VINCENT CHASE\\nby Lenskart Polarized, UV Prote...</td>\n",
       "      <td>₹1,061</td>\n",
       "      <td>46% off</td>\n",
       "    </tr>\n",
       "    <tr>\n",
       "      <th>1</th>\n",
       "      <td>VINCENT CHASE</td>\n",
       "      <td>VINCENT CHASE\\nPolarized, UV Protection Round ...</td>\n",
       "      <td>₹929</td>\n",
       "      <td>53% off</td>\n",
       "    </tr>\n",
       "    <tr>\n",
       "      <th>2</th>\n",
       "      <td>Elligator</td>\n",
       "      <td>Elligator\\nUV Protection Cat-eye, Retro Square...</td>\n",
       "      <td>₹149</td>\n",
       "      <td>75% off</td>\n",
       "    </tr>\n",
       "    <tr>\n",
       "      <th>3</th>\n",
       "      <td>SRPM</td>\n",
       "      <td>SRPM\\nUV Protection Wayfarer Sunglasses (50)\\n...</td>\n",
       "      <td>₹149</td>\n",
       "      <td>88% off</td>\n",
       "    </tr>\n",
       "    <tr>\n",
       "      <th>4</th>\n",
       "      <td>Fastrack</td>\n",
       "      <td>Fastrack\\nUV Protection Wayfarer Sunglasses (F...</td>\n",
       "      <td>₹619</td>\n",
       "      <td>43% off</td>\n",
       "    </tr>\n",
       "    <tr>\n",
       "      <th>...</th>\n",
       "      <td>...</td>\n",
       "      <td>...</td>\n",
       "      <td>...</td>\n",
       "      <td>...</td>\n",
       "    </tr>\n",
       "    <tr>\n",
       "      <th>95</th>\n",
       "      <td>VINCENT CHASE</td>\n",
       "      <td>VINCENT CHASE\\nby Lenskart Polarized, UV Prote...</td>\n",
       "      <td>₹929</td>\n",
       "      <td>53% off</td>\n",
       "    </tr>\n",
       "    <tr>\n",
       "      <th>96</th>\n",
       "      <td>Fastrack</td>\n",
       "      <td>Fastrack\\nUV Protection Rectangular Sunglasses...</td>\n",
       "      <td>₹489</td>\n",
       "      <td>45% off</td>\n",
       "    </tr>\n",
       "    <tr>\n",
       "      <th>97</th>\n",
       "      <td>Fastrack</td>\n",
       "      <td>Fastrack\\nGradient, UV Protection Wayfarer Sun...</td>\n",
       "      <td>₹489</td>\n",
       "      <td>45% off</td>\n",
       "    </tr>\n",
       "    <tr>\n",
       "      <th>98</th>\n",
       "      <td>Elligator</td>\n",
       "      <td>Elligator\\nUV Protection Round Sunglasses (53)...</td>\n",
       "      <td>₹149</td>\n",
       "      <td>85% off</td>\n",
       "    </tr>\n",
       "    <tr>\n",
       "      <th>99</th>\n",
       "      <td>Hooper</td>\n",
       "      <td>Hooper\\nUV Protection Wayfarer Sunglasses (50)...</td>\n",
       "      <td>₹597</td>\n",
       "      <td>40% off</td>\n",
       "    </tr>\n",
       "  </tbody>\n",
       "</table>\n",
       "<p>100 rows × 4 columns</p>\n",
       "</div>"
      ],
      "text/plain": [
       "            BRAND                                PRODUCT_DESCRIPTION   PRICE  \\\n",
       "0   VINCENT CHASE  VINCENT CHASE\\nby Lenskart Polarized, UV Prote...  ₹1,061   \n",
       "1   VINCENT CHASE  VINCENT CHASE\\nPolarized, UV Protection Round ...    ₹929   \n",
       "2       Elligator  Elligator\\nUV Protection Cat-eye, Retro Square...    ₹149   \n",
       "3            SRPM  SRPM\\nUV Protection Wayfarer Sunglasses (50)\\n...    ₹149   \n",
       "4        Fastrack  Fastrack\\nUV Protection Wayfarer Sunglasses (F...    ₹619   \n",
       "..            ...                                                ...     ...   \n",
       "95  VINCENT CHASE  VINCENT CHASE\\nby Lenskart Polarized, UV Prote...    ₹929   \n",
       "96       Fastrack  Fastrack\\nUV Protection Rectangular Sunglasses...    ₹489   \n",
       "97       Fastrack  Fastrack\\nGradient, UV Protection Wayfarer Sun...    ₹489   \n",
       "98      Elligator  Elligator\\nUV Protection Round Sunglasses (53)...    ₹149   \n",
       "99         Hooper  Hooper\\nUV Protection Wayfarer Sunglasses (50)...    ₹597   \n",
       "\n",
       "   DISCOUNT  \n",
       "0   46% off  \n",
       "1   53% off  \n",
       "2   75% off  \n",
       "3   88% off  \n",
       "4   43% off  \n",
       "..      ...  \n",
       "95  53% off  \n",
       "96  45% off  \n",
       "97  45% off  \n",
       "98  85% off  \n",
       "99  40% off  \n",
       "\n",
       "[100 rows x 4 columns]"
      ]
     },
     "execution_count": 12,
     "metadata": {},
     "output_type": "execute_result"
    }
   ],
   "source": [
    "#  MAKING DATA FRAME AND DISPLAY IN DATA FRAME FORMAT\n",
    "df = pd.DataFrame ({'BRAND':BRAND,'PRODUCT_DESCRIPTION':PRODUCT_DESCRIPTION,'PRICE':PRICE,'DISCOUNT':DISCOUNT})\n",
    "df.head(100)"
   ]
  },
  {
   "cell_type": "code",
   "execution_count": null,
   "id": "467ed3b4",
   "metadata": {},
   "outputs": [],
   "source": []
  },
  {
   "cell_type": "code",
   "execution_count": null,
   "id": "43487f27",
   "metadata": {},
   "outputs": [],
   "source": []
  }
 ],
 "metadata": {
  "kernelspec": {
   "display_name": "Python 3 (ipykernel)",
   "language": "python",
   "name": "python3"
  },
  "language_info": {
   "codemirror_mode": {
    "name": "ipython",
    "version": 3
   },
   "file_extension": ".py",
   "mimetype": "text/x-python",
   "name": "python",
   "nbconvert_exporter": "python",
   "pygments_lexer": "ipython3",
   "version": "3.9.13"
  }
 },
 "nbformat": 4,
 "nbformat_minor": 5
}
